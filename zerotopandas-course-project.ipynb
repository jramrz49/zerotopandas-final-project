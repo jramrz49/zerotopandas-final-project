{
 "cells": [
  {
   "cell_type": "markdown",
   "metadata": {},
   "source": [
    "# Final Project - NBA 2019 - 2020\n",
    "This Dataset is all the stats from all the legues that play basketball. I am curious to see how the game was effect by the pandimic before and after. Also, I just want to see different parts of the world league differ from the NBA."
   ]
  },
  {
   "cell_type": "markdown",
   "metadata": {},
   "source": [
    "## Downloading the Dataset\n",
    "\n",
    "I am downloading the dataset."
   ]
  },
  {
   "cell_type": "code",
   "execution_count": 1,
   "metadata": {},
   "outputs": [],
   "source": [
    "!pip install jovian opendatasets --upgrade --quiet"
   ]
  },
  {
   "cell_type": "code",
   "execution_count": 1,
   "metadata": {},
   "outputs": [],
   "source": [
    "dataset_url = 'https://www.kaggle.com/jacobbaruch/basketball-players-stats-per-season-49-leagues?select=players_stats_by_season_full_details.csv' "
   ]
  },
  {
   "cell_type": "code",
   "execution_count": 2,
   "metadata": {},
   "outputs": [
    {
     "name": "stdout",
     "output_type": "stream",
     "text": [
      "Please provide your Kaggle credentials to download this dataset. Learn more: http://bit.ly/kaggle-creds\n",
      "Your Kaggle username: mrposh\n",
      "Your Kaggle Key: ········\n"
     ]
    },
    {
     "name": "stderr",
     "output_type": "stream",
     "text": [
      "100%|██████████| 2.77M/2.77M [00:00<00:00, 193MB/s]"
     ]
    },
    {
     "name": "stdout",
     "output_type": "stream",
     "text": [
      "Downloading basketball-players-stats-per-season-49-leagues.zip to ./basketball-players-stats-per-season-49-leagues\n",
      "\n"
     ]
    },
    {
     "name": "stderr",
     "output_type": "stream",
     "text": [
      "\n"
     ]
    }
   ],
   "source": [
    "import opendatasets as od\n",
    "od.download(dataset_url)"
   ]
  },
  {
   "cell_type": "markdown",
   "metadata": {},
   "source": [
    "The dataset has been downloaded and extracted."
   ]
  },
  {
   "cell_type": "code",
   "execution_count": 5,
   "metadata": {},
   "outputs": [],
   "source": [
    "data_dir = './basketball-players-stats-per-season-49-leagues'"
   ]
  },
  {
   "cell_type": "code",
   "execution_count": 6,
   "metadata": {},
   "outputs": [
    {
     "data": {
      "text/plain": [
       "['players_stats_by_season_full_details.csv']"
      ]
     },
     "execution_count": 6,
     "metadata": {},
     "output_type": "execute_result"
    }
   ],
   "source": [
    "import os\n",
    "os.listdir(data_dir)"
   ]
  },
  {
   "cell_type": "markdown",
   "metadata": {},
   "source": [
    "Let us save and upload our work to Jovian before continuing."
   ]
  },
  {
   "cell_type": "code",
   "execution_count": 7,
   "metadata": {},
   "outputs": [],
   "source": [
    "project_name = \"zerotopandas-final-project\" # change this (use lowercase letters and hyphens only)"
   ]
  },
  {
   "cell_type": "code",
   "execution_count": 8,
   "metadata": {},
   "outputs": [],
   "source": [
    "!pip install jovian --upgrade -q"
   ]
  },
  {
   "cell_type": "code",
   "execution_count": 9,
   "metadata": {},
   "outputs": [],
   "source": [
    "import jovian"
   ]
  },
  {
   "cell_type": "code",
   "execution_count": 10,
   "metadata": {},
   "outputs": [
    {
     "data": {
      "application/javascript": [
       "window.require && require([\"base/js/namespace\"],function(Jupyter){Jupyter.notebook.save_checkpoint()})"
      ],
      "text/plain": [
       "<IPython.core.display.Javascript object>"
      ]
     },
     "metadata": {},
     "output_type": "display_data"
    },
    {
     "name": "stdout",
     "output_type": "stream",
     "text": [
      "[jovian] Attempting to save notebook..\u001b[0m\n",
      "[jovian] Please enter your API key ( from https://jovian.ml/ ):\u001b[0m\n",
      "API KEY: ········\n",
      "[jovian] Updating notebook \"josh-ramrz/zerotopandas-final-project\" on https://jovian.ml/\u001b[0m\n",
      "[jovian] Uploading notebook..\u001b[0m\n",
      "[jovian] Capturing environment..\u001b[0m\n",
      "[jovian] Committed successfully! https://jovian.ml/josh-ramrz/zerotopandas-final-project\u001b[0m\n"
     ]
    },
    {
     "data": {
      "text/plain": [
       "'https://jovian.ml/josh-ramrz/zerotopandas-final-project'"
      ]
     },
     "execution_count": 10,
     "metadata": {},
     "output_type": "execute_result"
    }
   ],
   "source": [
    "jovian.commit(project=project_name)"
   ]
  },
  {
   "cell_type": "markdown",
   "metadata": {},
   "source": [
    "## Data Preparation and Cleaning\n",
    "\n",
    "I will be taking only the 2019 - 2020 season too see how the pandemic effect the leagues.\n",
    "\n"
   ]
  },
  {
   "cell_type": "code",
   "execution_count": 11,
   "metadata": {},
   "outputs": [
    {
     "name": "stdout",
     "output_type": "stream",
     "text": [
      "The shape of the 2019-2020 season dataset is (7116, 22)\n"
     ]
    }
   ],
   "source": [
    "import pandas as pd\n",
    "# Here is the first 10 rows of the dataframe\n",
    "DF = pd.read_csv('./basketball-players-stats-per-season-49-leagues/players_stats_by_season_full_details.csv')\n",
    "DF_19_20 = DF.groupby('Season').get_group('2019 - 2020')\n",
    "DF_19_20 = DF_19_20[[\"League\",\n",
    "             'Season',\n",
    "             'Player',\n",
    "             'Team',\n",
    "             'GP',\n",
    "             'MIN',\n",
    "             'FGM',\n",
    "             'FGA',\n",
    "             '3PA',\n",
    "              '3PM',\n",
    "             'FTM',\n",
    "             'FTA',\n",
    "             'TOV',\n",
    "             'PF',\n",
    "             'ORB',\n",
    "             'DRB',\n",
    "             'REB',\n",
    "             'AST',\n",
    "             'STL',\n",
    "              'BLK',\n",
    "              'PTS',\n",
    "              'birth_year']]\n",
    "print(f'The shape of the 2019-2020 season dataset is {DF_19_20.shape}')"
   ]
  },
  {
   "cell_type": "code",
   "execution_count": 12,
   "metadata": {},
   "outputs": [
    {
     "data": {
      "text/html": [
       "<div>\n",
       "<style scoped>\n",
       "    .dataframe tbody tr th:only-of-type {\n",
       "        vertical-align: middle;\n",
       "    }\n",
       "\n",
       "    .dataframe tbody tr th {\n",
       "        vertical-align: top;\n",
       "    }\n",
       "\n",
       "    .dataframe thead th {\n",
       "        text-align: right;\n",
       "    }\n",
       "</style>\n",
       "<table border=\"1\" class=\"dataframe\">\n",
       "  <thead>\n",
       "    <tr style=\"text-align: right;\">\n",
       "      <th></th>\n",
       "      <th>League</th>\n",
       "      <th>Season</th>\n",
       "      <th>Player</th>\n",
       "      <th>Team</th>\n",
       "      <th>GP</th>\n",
       "      <th>MIN</th>\n",
       "      <th>FGM</th>\n",
       "      <th>FGA</th>\n",
       "      <th>3PA</th>\n",
       "      <th>3PM</th>\n",
       "      <th>...</th>\n",
       "      <th>TOV</th>\n",
       "      <th>PF</th>\n",
       "      <th>ORB</th>\n",
       "      <th>DRB</th>\n",
       "      <th>REB</th>\n",
       "      <th>AST</th>\n",
       "      <th>STL</th>\n",
       "      <th>BLK</th>\n",
       "      <th>PTS</th>\n",
       "      <th>birth_year</th>\n",
       "    </tr>\n",
       "  </thead>\n",
       "  <tbody>\n",
       "    <tr>\n",
       "      <th>0</th>\n",
       "      <td>NBA</td>\n",
       "      <td>2019 - 2020</td>\n",
       "      <td>James Harden</td>\n",
       "      <td>HOU</td>\n",
       "      <td>68</td>\n",
       "      <td>2482.6</td>\n",
       "      <td>672</td>\n",
       "      <td>1514</td>\n",
       "      <td>843</td>\n",
       "      <td>299</td>\n",
       "      <td>...</td>\n",
       "      <td>308</td>\n",
       "      <td>227</td>\n",
       "      <td>70</td>\n",
       "      <td>376</td>\n",
       "      <td>446</td>\n",
       "      <td>512</td>\n",
       "      <td>125</td>\n",
       "      <td>60</td>\n",
       "      <td>2335</td>\n",
       "      <td>1989.0</td>\n",
       "    </tr>\n",
       "    <tr>\n",
       "      <th>1</th>\n",
       "      <td>NBA</td>\n",
       "      <td>2019 - 2020</td>\n",
       "      <td>Damian Lillard</td>\n",
       "      <td>POR</td>\n",
       "      <td>66</td>\n",
       "      <td>2473.7</td>\n",
       "      <td>624</td>\n",
       "      <td>1349</td>\n",
       "      <td>674</td>\n",
       "      <td>270</td>\n",
       "      <td>...</td>\n",
       "      <td>194</td>\n",
       "      <td>114</td>\n",
       "      <td>33</td>\n",
       "      <td>251</td>\n",
       "      <td>284</td>\n",
       "      <td>530</td>\n",
       "      <td>70</td>\n",
       "      <td>22</td>\n",
       "      <td>1978</td>\n",
       "      <td>1990.0</td>\n",
       "    </tr>\n",
       "    <tr>\n",
       "      <th>2</th>\n",
       "      <td>NBA</td>\n",
       "      <td>2019 - 2020</td>\n",
       "      <td>Devin Booker</td>\n",
       "      <td>PHX</td>\n",
       "      <td>70</td>\n",
       "      <td>2511.8</td>\n",
       "      <td>627</td>\n",
       "      <td>1283</td>\n",
       "      <td>398</td>\n",
       "      <td>141</td>\n",
       "      <td>...</td>\n",
       "      <td>264</td>\n",
       "      <td>213</td>\n",
       "      <td>29</td>\n",
       "      <td>268</td>\n",
       "      <td>297</td>\n",
       "      <td>456</td>\n",
       "      <td>49</td>\n",
       "      <td>18</td>\n",
       "      <td>1863</td>\n",
       "      <td>1996.0</td>\n",
       "    </tr>\n",
       "    <tr>\n",
       "      <th>3</th>\n",
       "      <td>NBA</td>\n",
       "      <td>2019 - 2020</td>\n",
       "      <td>Giannis Antetokounmpo</td>\n",
       "      <td>MIL</td>\n",
       "      <td>63</td>\n",
       "      <td>1916.9</td>\n",
       "      <td>685</td>\n",
       "      <td>1238</td>\n",
       "      <td>293</td>\n",
       "      <td>89</td>\n",
       "      <td>...</td>\n",
       "      <td>230</td>\n",
       "      <td>195</td>\n",
       "      <td>140</td>\n",
       "      <td>716</td>\n",
       "      <td>856</td>\n",
       "      <td>354</td>\n",
       "      <td>61</td>\n",
       "      <td>66</td>\n",
       "      <td>1857</td>\n",
       "      <td>1994.0</td>\n",
       "    </tr>\n",
       "    <tr>\n",
       "      <th>4</th>\n",
       "      <td>NBA</td>\n",
       "      <td>2019 - 2020</td>\n",
       "      <td>Trae Young</td>\n",
       "      <td>ATL</td>\n",
       "      <td>60</td>\n",
       "      <td>2120.1</td>\n",
       "      <td>546</td>\n",
       "      <td>1249</td>\n",
       "      <td>568</td>\n",
       "      <td>205</td>\n",
       "      <td>...</td>\n",
       "      <td>289</td>\n",
       "      <td>104</td>\n",
       "      <td>32</td>\n",
       "      <td>223</td>\n",
       "      <td>255</td>\n",
       "      <td>560</td>\n",
       "      <td>65</td>\n",
       "      <td>8</td>\n",
       "      <td>1778</td>\n",
       "      <td>1998.0</td>\n",
       "    </tr>\n",
       "    <tr>\n",
       "      <th>5</th>\n",
       "      <td>NBA</td>\n",
       "      <td>2019 - 2020</td>\n",
       "      <td>Luka Doncic</td>\n",
       "      <td>DAL</td>\n",
       "      <td>61</td>\n",
       "      <td>2047.3</td>\n",
       "      <td>581</td>\n",
       "      <td>1255</td>\n",
       "      <td>541</td>\n",
       "      <td>171</td>\n",
       "      <td>...</td>\n",
       "      <td>260</td>\n",
       "      <td>153</td>\n",
       "      <td>78</td>\n",
       "      <td>495</td>\n",
       "      <td>573</td>\n",
       "      <td>538</td>\n",
       "      <td>60</td>\n",
       "      <td>14</td>\n",
       "      <td>1759</td>\n",
       "      <td>1999.0</td>\n",
       "    </tr>\n",
       "    <tr>\n",
       "      <th>6</th>\n",
       "      <td>NBA</td>\n",
       "      <td>2019 - 2020</td>\n",
       "      <td>Bradley Beal</td>\n",
       "      <td>WAS</td>\n",
       "      <td>57</td>\n",
       "      <td>2053.2</td>\n",
       "      <td>593</td>\n",
       "      <td>1303</td>\n",
       "      <td>481</td>\n",
       "      <td>170</td>\n",
       "      <td>...</td>\n",
       "      <td>194</td>\n",
       "      <td>126</td>\n",
       "      <td>52</td>\n",
       "      <td>190</td>\n",
       "      <td>242</td>\n",
       "      <td>347</td>\n",
       "      <td>71</td>\n",
       "      <td>23</td>\n",
       "      <td>1742</td>\n",
       "      <td>1993.0</td>\n",
       "    </tr>\n",
       "    <tr>\n",
       "      <th>7</th>\n",
       "      <td>NBA</td>\n",
       "      <td>2019 - 2020</td>\n",
       "      <td>LeBron James</td>\n",
       "      <td>LAL</td>\n",
       "      <td>67</td>\n",
       "      <td>2316.3</td>\n",
       "      <td>643</td>\n",
       "      <td>1303</td>\n",
       "      <td>425</td>\n",
       "      <td>148</td>\n",
       "      <td>...</td>\n",
       "      <td>261</td>\n",
       "      <td>118</td>\n",
       "      <td>65</td>\n",
       "      <td>459</td>\n",
       "      <td>524</td>\n",
       "      <td>684</td>\n",
       "      <td>78</td>\n",
       "      <td>36</td>\n",
       "      <td>1698</td>\n",
       "      <td>1984.0</td>\n",
       "    </tr>\n",
       "    <tr>\n",
       "      <th>8</th>\n",
       "      <td>NBA</td>\n",
       "      <td>2019 - 2020</td>\n",
       "      <td>Donovan Mitchell</td>\n",
       "      <td>UTA</td>\n",
       "      <td>69</td>\n",
       "      <td>2364.0</td>\n",
       "      <td>602</td>\n",
       "      <td>1342</td>\n",
       "      <td>473</td>\n",
       "      <td>173</td>\n",
       "      <td>...</td>\n",
       "      <td>184</td>\n",
       "      <td>172</td>\n",
       "      <td>53</td>\n",
       "      <td>251</td>\n",
       "      <td>304</td>\n",
       "      <td>294</td>\n",
       "      <td>70</td>\n",
       "      <td>14</td>\n",
       "      <td>1655</td>\n",
       "      <td>1996.0</td>\n",
       "    </tr>\n",
       "    <tr>\n",
       "      <th>9</th>\n",
       "      <td>NBA</td>\n",
       "      <td>2019 - 2020</td>\n",
       "      <td>Anthony Davis</td>\n",
       "      <td>LAL</td>\n",
       "      <td>62</td>\n",
       "      <td>2131.4</td>\n",
       "      <td>551</td>\n",
       "      <td>1096</td>\n",
       "      <td>218</td>\n",
       "      <td>72</td>\n",
       "      <td>...</td>\n",
       "      <td>154</td>\n",
       "      <td>156</td>\n",
       "      <td>143</td>\n",
       "      <td>435</td>\n",
       "      <td>578</td>\n",
       "      <td>200</td>\n",
       "      <td>91</td>\n",
       "      <td>143</td>\n",
       "      <td>1618</td>\n",
       "      <td>1993.0</td>\n",
       "    </tr>\n",
       "  </tbody>\n",
       "</table>\n",
       "<p>10 rows × 22 columns</p>\n",
       "</div>"
      ],
      "text/plain": [
       "  League       Season                 Player Team  GP     MIN  FGM   FGA  3PA  \\\n",
       "0    NBA  2019 - 2020           James Harden  HOU  68  2482.6  672  1514  843   \n",
       "1    NBA  2019 - 2020         Damian Lillard  POR  66  2473.7  624  1349  674   \n",
       "2    NBA  2019 - 2020           Devin Booker  PHX  70  2511.8  627  1283  398   \n",
       "3    NBA  2019 - 2020  Giannis Antetokounmpo  MIL  63  1916.9  685  1238  293   \n",
       "4    NBA  2019 - 2020             Trae Young  ATL  60  2120.1  546  1249  568   \n",
       "5    NBA  2019 - 2020            Luka Doncic  DAL  61  2047.3  581  1255  541   \n",
       "6    NBA  2019 - 2020           Bradley Beal  WAS  57  2053.2  593  1303  481   \n",
       "7    NBA  2019 - 2020           LeBron James  LAL  67  2316.3  643  1303  425   \n",
       "8    NBA  2019 - 2020       Donovan Mitchell  UTA  69  2364.0  602  1342  473   \n",
       "9    NBA  2019 - 2020          Anthony Davis  LAL  62  2131.4  551  1096  218   \n",
       "\n",
       "   3PM  ...  TOV   PF  ORB  DRB  REB  AST  STL  BLK   PTS  birth_year  \n",
       "0  299  ...  308  227   70  376  446  512  125   60  2335      1989.0  \n",
       "1  270  ...  194  114   33  251  284  530   70   22  1978      1990.0  \n",
       "2  141  ...  264  213   29  268  297  456   49   18  1863      1996.0  \n",
       "3   89  ...  230  195  140  716  856  354   61   66  1857      1994.0  \n",
       "4  205  ...  289  104   32  223  255  560   65    8  1778      1998.0  \n",
       "5  171  ...  260  153   78  495  573  538   60   14  1759      1999.0  \n",
       "6  170  ...  194  126   52  190  242  347   71   23  1742      1993.0  \n",
       "7  148  ...  261  118   65  459  524  684   78   36  1698      1984.0  \n",
       "8  173  ...  184  172   53  251  304  294   70   14  1655      1996.0  \n",
       "9   72  ...  154  156  143  435  578  200   91  143  1618      1993.0  \n",
       "\n",
       "[10 rows x 22 columns]"
      ]
     },
     "execution_count": 12,
     "metadata": {},
     "output_type": "execute_result"
    }
   ],
   "source": [
    "DF_19_20.head(10)"
   ]
  },
  {
   "cell_type": "code",
   "execution_count": 13,
   "metadata": {},
   "outputs": [],
   "source": [
    "NBA_19_20 = DF[DF['League'] == 'NBA'].groupby('Season').get_group('2019 - 2020')"
   ]
  },
  {
   "cell_type": "code",
   "execution_count": 14,
   "metadata": {},
   "outputs": [
    {
     "name": "stdout",
     "output_type": "stream",
     "text": [
      "The shape of the NBA 2019-2020 season dataset is (278, 22)\n"
     ]
    }
   ],
   "source": [
    "# Here is the 2019-2020 NBA season. I wanted to see how their games effect before the pandimic\n",
    "\n",
    "#NBA_19_20.drop(['birth_month','birth_date', 'height', 'height_cm', 'weight', 'weight_kg','nationality', 'high_school'], axis=1)\n",
    "NBA_19_20 = NBA_19_20[[\"League\",\n",
    "             'Season',\n",
    "             'Player',\n",
    "             'Team',\n",
    "             'GP',\n",
    "             'MIN',\n",
    "             'FGM',\n",
    "             'FGA',\n",
    "             '3PA',\n",
    "              '3PM',\n",
    "             'FTM',\n",
    "             'FTA',\n",
    "             'TOV',\n",
    "             'PF',\n",
    "             'ORB',\n",
    "             'DRB',\n",
    "             'REB',\n",
    "             'AST',\n",
    "             'STL',\n",
    "              'BLK',\n",
    "              'PTS',\n",
    "              'birth_year']]\n",
    "print(f'The shape of the NBA 2019-2020 season dataset is {NBA_19_20.shape}')"
   ]
  },
  {
   "cell_type": "code",
   "execution_count": 15,
   "metadata": {},
   "outputs": [
    {
     "data": {
      "text/html": [
       "<div>\n",
       "<style scoped>\n",
       "    .dataframe tbody tr th:only-of-type {\n",
       "        vertical-align: middle;\n",
       "    }\n",
       "\n",
       "    .dataframe tbody tr th {\n",
       "        vertical-align: top;\n",
       "    }\n",
       "\n",
       "    .dataframe thead th {\n",
       "        text-align: right;\n",
       "    }\n",
       "</style>\n",
       "<table border=\"1\" class=\"dataframe\">\n",
       "  <thead>\n",
       "    <tr style=\"text-align: right;\">\n",
       "      <th></th>\n",
       "      <th>League</th>\n",
       "      <th>Season</th>\n",
       "      <th>Player</th>\n",
       "      <th>Team</th>\n",
       "      <th>GP</th>\n",
       "      <th>MIN</th>\n",
       "      <th>FGM</th>\n",
       "      <th>FGA</th>\n",
       "      <th>3PA</th>\n",
       "      <th>3PM</th>\n",
       "      <th>...</th>\n",
       "      <th>ORB</th>\n",
       "      <th>DRB</th>\n",
       "      <th>REB</th>\n",
       "      <th>AST</th>\n",
       "      <th>STL</th>\n",
       "      <th>BLK</th>\n",
       "      <th>PTS</th>\n",
       "      <th>birth_year</th>\n",
       "      <th>3PR</th>\n",
       "      <th>OVR</th>\n",
       "    </tr>\n",
       "  </thead>\n",
       "  <tbody>\n",
       "    <tr>\n",
       "      <th>0</th>\n",
       "      <td>NBA</td>\n",
       "      <td>2019 - 2020</td>\n",
       "      <td>James Harden</td>\n",
       "      <td>HOU</td>\n",
       "      <td>68</td>\n",
       "      <td>2482.6</td>\n",
       "      <td>672</td>\n",
       "      <td>1514</td>\n",
       "      <td>843</td>\n",
       "      <td>299</td>\n",
       "      <td>...</td>\n",
       "      <td>70</td>\n",
       "      <td>376</td>\n",
       "      <td>446</td>\n",
       "      <td>512</td>\n",
       "      <td>125</td>\n",
       "      <td>60</td>\n",
       "      <td>2335</td>\n",
       "      <td>1989.0</td>\n",
       "      <td>0.354686</td>\n",
       "      <td>0.443857</td>\n",
       "    </tr>\n",
       "    <tr>\n",
       "      <th>1</th>\n",
       "      <td>NBA</td>\n",
       "      <td>2019 - 2020</td>\n",
       "      <td>Damian Lillard</td>\n",
       "      <td>POR</td>\n",
       "      <td>66</td>\n",
       "      <td>2473.7</td>\n",
       "      <td>624</td>\n",
       "      <td>1349</td>\n",
       "      <td>674</td>\n",
       "      <td>270</td>\n",
       "      <td>...</td>\n",
       "      <td>33</td>\n",
       "      <td>251</td>\n",
       "      <td>284</td>\n",
       "      <td>530</td>\n",
       "      <td>70</td>\n",
       "      <td>22</td>\n",
       "      <td>1978</td>\n",
       "      <td>1990.0</td>\n",
       "      <td>0.400593</td>\n",
       "      <td>0.462565</td>\n",
       "    </tr>\n",
       "    <tr>\n",
       "      <th>2</th>\n",
       "      <td>NBA</td>\n",
       "      <td>2019 - 2020</td>\n",
       "      <td>Devin Booker</td>\n",
       "      <td>PHX</td>\n",
       "      <td>70</td>\n",
       "      <td>2511.8</td>\n",
       "      <td>627</td>\n",
       "      <td>1283</td>\n",
       "      <td>398</td>\n",
       "      <td>141</td>\n",
       "      <td>...</td>\n",
       "      <td>29</td>\n",
       "      <td>268</td>\n",
       "      <td>297</td>\n",
       "      <td>456</td>\n",
       "      <td>49</td>\n",
       "      <td>18</td>\n",
       "      <td>1863</td>\n",
       "      <td>1996.0</td>\n",
       "      <td>0.354271</td>\n",
       "      <td>0.488698</td>\n",
       "    </tr>\n",
       "    <tr>\n",
       "      <th>3</th>\n",
       "      <td>NBA</td>\n",
       "      <td>2019 - 2020</td>\n",
       "      <td>Giannis Antetokounmpo</td>\n",
       "      <td>MIL</td>\n",
       "      <td>63</td>\n",
       "      <td>1916.9</td>\n",
       "      <td>685</td>\n",
       "      <td>1238</td>\n",
       "      <td>293</td>\n",
       "      <td>89</td>\n",
       "      <td>...</td>\n",
       "      <td>140</td>\n",
       "      <td>716</td>\n",
       "      <td>856</td>\n",
       "      <td>354</td>\n",
       "      <td>61</td>\n",
       "      <td>66</td>\n",
       "      <td>1857</td>\n",
       "      <td>1994.0</td>\n",
       "      <td>0.303754</td>\n",
       "      <td>0.553312</td>\n",
       "    </tr>\n",
       "    <tr>\n",
       "      <th>4</th>\n",
       "      <td>NBA</td>\n",
       "      <td>2019 - 2020</td>\n",
       "      <td>Trae Young</td>\n",
       "      <td>ATL</td>\n",
       "      <td>60</td>\n",
       "      <td>2120.1</td>\n",
       "      <td>546</td>\n",
       "      <td>1249</td>\n",
       "      <td>568</td>\n",
       "      <td>205</td>\n",
       "      <td>...</td>\n",
       "      <td>32</td>\n",
       "      <td>223</td>\n",
       "      <td>255</td>\n",
       "      <td>560</td>\n",
       "      <td>65</td>\n",
       "      <td>8</td>\n",
       "      <td>1778</td>\n",
       "      <td>1998.0</td>\n",
       "      <td>0.360915</td>\n",
       "      <td>0.437150</td>\n",
       "    </tr>\n",
       "    <tr>\n",
       "      <th>5</th>\n",
       "      <td>NBA</td>\n",
       "      <td>2019 - 2020</td>\n",
       "      <td>Luka Doncic</td>\n",
       "      <td>DAL</td>\n",
       "      <td>61</td>\n",
       "      <td>2047.3</td>\n",
       "      <td>581</td>\n",
       "      <td>1255</td>\n",
       "      <td>541</td>\n",
       "      <td>171</td>\n",
       "      <td>...</td>\n",
       "      <td>78</td>\n",
       "      <td>495</td>\n",
       "      <td>573</td>\n",
       "      <td>538</td>\n",
       "      <td>60</td>\n",
       "      <td>14</td>\n",
       "      <td>1759</td>\n",
       "      <td>1999.0</td>\n",
       "      <td>0.316081</td>\n",
       "      <td>0.462948</td>\n",
       "    </tr>\n",
       "    <tr>\n",
       "      <th>6</th>\n",
       "      <td>NBA</td>\n",
       "      <td>2019 - 2020</td>\n",
       "      <td>Bradley Beal</td>\n",
       "      <td>WAS</td>\n",
       "      <td>57</td>\n",
       "      <td>2053.2</td>\n",
       "      <td>593</td>\n",
       "      <td>1303</td>\n",
       "      <td>481</td>\n",
       "      <td>170</td>\n",
       "      <td>...</td>\n",
       "      <td>52</td>\n",
       "      <td>190</td>\n",
       "      <td>242</td>\n",
       "      <td>347</td>\n",
       "      <td>71</td>\n",
       "      <td>23</td>\n",
       "      <td>1742</td>\n",
       "      <td>1993.0</td>\n",
       "      <td>0.353430</td>\n",
       "      <td>0.455104</td>\n",
       "    </tr>\n",
       "    <tr>\n",
       "      <th>7</th>\n",
       "      <td>NBA</td>\n",
       "      <td>2019 - 2020</td>\n",
       "      <td>LeBron James</td>\n",
       "      <td>LAL</td>\n",
       "      <td>67</td>\n",
       "      <td>2316.3</td>\n",
       "      <td>643</td>\n",
       "      <td>1303</td>\n",
       "      <td>425</td>\n",
       "      <td>148</td>\n",
       "      <td>...</td>\n",
       "      <td>65</td>\n",
       "      <td>459</td>\n",
       "      <td>524</td>\n",
       "      <td>684</td>\n",
       "      <td>78</td>\n",
       "      <td>36</td>\n",
       "      <td>1698</td>\n",
       "      <td>1984.0</td>\n",
       "      <td>0.348235</td>\n",
       "      <td>0.493477</td>\n",
       "    </tr>\n",
       "    <tr>\n",
       "      <th>8</th>\n",
       "      <td>NBA</td>\n",
       "      <td>2019 - 2020</td>\n",
       "      <td>Donovan Mitchell</td>\n",
       "      <td>UTA</td>\n",
       "      <td>69</td>\n",
       "      <td>2364.0</td>\n",
       "      <td>602</td>\n",
       "      <td>1342</td>\n",
       "      <td>473</td>\n",
       "      <td>173</td>\n",
       "      <td>...</td>\n",
       "      <td>53</td>\n",
       "      <td>251</td>\n",
       "      <td>304</td>\n",
       "      <td>294</td>\n",
       "      <td>70</td>\n",
       "      <td>14</td>\n",
       "      <td>1655</td>\n",
       "      <td>1996.0</td>\n",
       "      <td>0.365751</td>\n",
       "      <td>0.448584</td>\n",
       "    </tr>\n",
       "    <tr>\n",
       "      <th>9</th>\n",
       "      <td>NBA</td>\n",
       "      <td>2019 - 2020</td>\n",
       "      <td>Anthony Davis</td>\n",
       "      <td>LAL</td>\n",
       "      <td>62</td>\n",
       "      <td>2131.4</td>\n",
       "      <td>551</td>\n",
       "      <td>1096</td>\n",
       "      <td>218</td>\n",
       "      <td>72</td>\n",
       "      <td>...</td>\n",
       "      <td>143</td>\n",
       "      <td>435</td>\n",
       "      <td>578</td>\n",
       "      <td>200</td>\n",
       "      <td>91</td>\n",
       "      <td>143</td>\n",
       "      <td>1618</td>\n",
       "      <td>1993.0</td>\n",
       "      <td>0.330275</td>\n",
       "      <td>0.502737</td>\n",
       "    </tr>\n",
       "  </tbody>\n",
       "</table>\n",
       "<p>10 rows × 24 columns</p>\n",
       "</div>"
      ],
      "text/plain": [
       "  League       Season                 Player Team  GP     MIN  FGM   FGA  3PA  \\\n",
       "0    NBA  2019 - 2020           James Harden  HOU  68  2482.6  672  1514  843   \n",
       "1    NBA  2019 - 2020         Damian Lillard  POR  66  2473.7  624  1349  674   \n",
       "2    NBA  2019 - 2020           Devin Booker  PHX  70  2511.8  627  1283  398   \n",
       "3    NBA  2019 - 2020  Giannis Antetokounmpo  MIL  63  1916.9  685  1238  293   \n",
       "4    NBA  2019 - 2020             Trae Young  ATL  60  2120.1  546  1249  568   \n",
       "5    NBA  2019 - 2020            Luka Doncic  DAL  61  2047.3  581  1255  541   \n",
       "6    NBA  2019 - 2020           Bradley Beal  WAS  57  2053.2  593  1303  481   \n",
       "7    NBA  2019 - 2020           LeBron James  LAL  67  2316.3  643  1303  425   \n",
       "8    NBA  2019 - 2020       Donovan Mitchell  UTA  69  2364.0  602  1342  473   \n",
       "9    NBA  2019 - 2020          Anthony Davis  LAL  62  2131.4  551  1096  218   \n",
       "\n",
       "   3PM  ...  ORB  DRB  REB  AST  STL  BLK   PTS  birth_year       3PR  \\\n",
       "0  299  ...   70  376  446  512  125   60  2335      1989.0  0.354686   \n",
       "1  270  ...   33  251  284  530   70   22  1978      1990.0  0.400593   \n",
       "2  141  ...   29  268  297  456   49   18  1863      1996.0  0.354271   \n",
       "3   89  ...  140  716  856  354   61   66  1857      1994.0  0.303754   \n",
       "4  205  ...   32  223  255  560   65    8  1778      1998.0  0.360915   \n",
       "5  171  ...   78  495  573  538   60   14  1759      1999.0  0.316081   \n",
       "6  170  ...   52  190  242  347   71   23  1742      1993.0  0.353430   \n",
       "7  148  ...   65  459  524  684   78   36  1698      1984.0  0.348235   \n",
       "8  173  ...   53  251  304  294   70   14  1655      1996.0  0.365751   \n",
       "9   72  ...  143  435  578  200   91  143  1618      1993.0  0.330275   \n",
       "\n",
       "        OVR  \n",
       "0  0.443857  \n",
       "1  0.462565  \n",
       "2  0.488698  \n",
       "3  0.553312  \n",
       "4  0.437150  \n",
       "5  0.462948  \n",
       "6  0.455104  \n",
       "7  0.493477  \n",
       "8  0.448584  \n",
       "9  0.502737  \n",
       "\n",
       "[10 rows x 24 columns]"
      ]
     },
     "execution_count": 15,
     "metadata": {},
     "output_type": "execute_result"
    }
   ],
   "source": [
    "ratio = NBA_19_20['3PM'] / NBA_19_20['3PA']\n",
    "NBA_19_20['3PR'] = ratio\n",
    "NBA_19_20['OVR'] = NBA_19_20['FGM']/ NBA_19_20['FGA']\n",
    "NBA_19_20.head(10)"
   ]
  },
  {
   "cell_type": "code",
   "execution_count": null,
   "metadata": {},
   "outputs": [],
   "source": [
    "import jovian"
   ]
  },
  {
   "cell_type": "code",
   "execution_count": 16,
   "metadata": {},
   "outputs": [
    {
     "data": {
      "application/javascript": [
       "window.require && require([\"base/js/namespace\"],function(Jupyter){Jupyter.notebook.save_checkpoint()})"
      ],
      "text/plain": [
       "<IPython.core.display.Javascript object>"
      ]
     },
     "metadata": {},
     "output_type": "display_data"
    },
    {
     "name": "stdout",
     "output_type": "stream",
     "text": [
      "[jovian] Attempting to save notebook..\u001b[0m\n",
      "[jovian] Updating notebook \"josh-ramrz/zerotopandas-final-project\" on https://jovian.ml/\u001b[0m\n",
      "[jovian] Uploading notebook..\u001b[0m\n",
      "[jovian] Capturing environment..\u001b[0m\n",
      "[jovian] Committed successfully! https://jovian.ml/josh-ramrz/zerotopandas-final-project\u001b[0m\n"
     ]
    },
    {
     "data": {
      "text/plain": [
       "'https://jovian.ml/josh-ramrz/zerotopandas-final-project'"
      ]
     },
     "execution_count": 16,
     "metadata": {},
     "output_type": "execute_result"
    }
   ],
   "source": [
    "jovian.commit()"
   ]
  },
  {
   "cell_type": "markdown",
   "metadata": {},
   "source": [
    "## Exploratory Analysis and Visualization\n",
    "\n",
    "I will be using a scatter plot to see the 3 points attempted and 3 points made. I will use a histogram for the ages.\n",
    "\n"
   ]
  },
  {
   "cell_type": "code",
   "execution_count": 17,
   "metadata": {},
   "outputs": [],
   "source": [
    "import seaborn as sns\n",
    "import matplotlib\n",
    "import matplotlib.pyplot as plt\n",
    "%matplotlib inline\n",
    "\n",
    "sns.set_style('darkgrid')\n",
    "matplotlib.rcParams['font.size'] = 14\n",
    "matplotlib.rcParams['figure.figsize'] = (9, 5)\n",
    "matplotlib.rcParams['figure.facecolor'] = '#00000000'"
   ]
  },
  {
   "cell_type": "markdown",
   "metadata": {},
   "source": [
    "# Three point scatter plot"
   ]
  },
  {
   "cell_type": "markdown",
   "metadata": {},
   "source": [
    "This is the graph of players that shot 3 pointers in the 2019-2020 season in the nba. The plyer with the most threes and most taken is James Harden. He made 299 threes out of 843 shot attempted. That is roughly 35%. He could made more if the season was not cut short from the pandimic."
   ]
  },
  {
   "cell_type": "code",
   "execution_count": 18,
   "metadata": {},
   "outputs": [
    {
     "data": {
      "text/html": [
       "<div>\n",
       "<style scoped>\n",
       "    .dataframe tbody tr th:only-of-type {\n",
       "        vertical-align: middle;\n",
       "    }\n",
       "\n",
       "    .dataframe tbody tr th {\n",
       "        vertical-align: top;\n",
       "    }\n",
       "\n",
       "    .dataframe thead th {\n",
       "        text-align: right;\n",
       "    }\n",
       "</style>\n",
       "<table border=\"1\" class=\"dataframe\">\n",
       "  <thead>\n",
       "    <tr style=\"text-align: right;\">\n",
       "      <th></th>\n",
       "      <th>Player</th>\n",
       "      <th>3PM</th>\n",
       "      <th>3PA</th>\n",
       "      <th>3PR</th>\n",
       "    </tr>\n",
       "  </thead>\n",
       "  <tbody>\n",
       "    <tr>\n",
       "      <th>0</th>\n",
       "      <td>James Harden</td>\n",
       "      <td>299</td>\n",
       "      <td>843</td>\n",
       "      <td>0.354686</td>\n",
       "    </tr>\n",
       "    <tr>\n",
       "      <th>1</th>\n",
       "      <td>Damian Lillard</td>\n",
       "      <td>270</td>\n",
       "      <td>674</td>\n",
       "      <td>0.400593</td>\n",
       "    </tr>\n",
       "    <tr>\n",
       "      <th>2</th>\n",
       "      <td>Devin Booker</td>\n",
       "      <td>141</td>\n",
       "      <td>398</td>\n",
       "      <td>0.354271</td>\n",
       "    </tr>\n",
       "    <tr>\n",
       "      <th>3</th>\n",
       "      <td>Giannis Antetokounmpo</td>\n",
       "      <td>89</td>\n",
       "      <td>293</td>\n",
       "      <td>0.303754</td>\n",
       "    </tr>\n",
       "    <tr>\n",
       "      <th>4</th>\n",
       "      <td>Trae Young</td>\n",
       "      <td>205</td>\n",
       "      <td>568</td>\n",
       "      <td>0.360915</td>\n",
       "    </tr>\n",
       "    <tr>\n",
       "      <th>5</th>\n",
       "      <td>Luka Doncic</td>\n",
       "      <td>171</td>\n",
       "      <td>541</td>\n",
       "      <td>0.316081</td>\n",
       "    </tr>\n",
       "    <tr>\n",
       "      <th>6</th>\n",
       "      <td>Bradley Beal</td>\n",
       "      <td>170</td>\n",
       "      <td>481</td>\n",
       "      <td>0.353430</td>\n",
       "    </tr>\n",
       "    <tr>\n",
       "      <th>7</th>\n",
       "      <td>LeBron James</td>\n",
       "      <td>148</td>\n",
       "      <td>425</td>\n",
       "      <td>0.348235</td>\n",
       "    </tr>\n",
       "    <tr>\n",
       "      <th>8</th>\n",
       "      <td>Donovan Mitchell</td>\n",
       "      <td>173</td>\n",
       "      <td>473</td>\n",
       "      <td>0.365751</td>\n",
       "    </tr>\n",
       "    <tr>\n",
       "      <th>9</th>\n",
       "      <td>Anthony Davis</td>\n",
       "      <td>72</td>\n",
       "      <td>218</td>\n",
       "      <td>0.330275</td>\n",
       "    </tr>\n",
       "  </tbody>\n",
       "</table>\n",
       "</div>"
      ],
      "text/plain": [
       "                  Player  3PM  3PA       3PR\n",
       "0           James Harden  299  843  0.354686\n",
       "1         Damian Lillard  270  674  0.400593\n",
       "2           Devin Booker  141  398  0.354271\n",
       "3  Giannis Antetokounmpo   89  293  0.303754\n",
       "4             Trae Young  205  568  0.360915\n",
       "5            Luka Doncic  171  541  0.316081\n",
       "6           Bradley Beal  170  481  0.353430\n",
       "7           LeBron James  148  425  0.348235\n",
       "8       Donovan Mitchell  173  473  0.365751\n",
       "9          Anthony Davis   72  218  0.330275"
      ]
     },
     "execution_count": 18,
     "metadata": {},
     "output_type": "execute_result"
    }
   ],
   "source": [
    "NBA_19_20.sort_values('3PM', ascending=False).head(10)\n",
    "NBA_19_20[['Player', '3PM', '3PA', '3PR']].head(10)"
   ]
  },
  {
   "cell_type": "code",
   "execution_count": 19,
   "metadata": {},
   "outputs": [
    {
     "data": {
      "image/png": "[encoded data removed]",
      "text/plain": [
       "<Figure size 648x360 with 2 Axes>"
      ]
     },
     "metadata": {
      "needs_background": "light"
     },
     "output_type": "display_data"
    }
   ],
   "source": [
    "threePM = NBA_19_20['3PM']\n",
    "threePA = NBA_19_20['3PA']\n",
    "#threePA.head(10).to_frame()\n",
    "\n",
    "plt.scatter(threePA, threePM, c=ratio, edgecolor='black')\n",
    "cbar = plt.colorbar()\n",
    "cbar.set_label('Three Points Made/Attempt Ratio')\n",
    "plt.xlabel('Three Points Attempt')\n",
    "plt.ylabel('Three Points Made')\n",
    "\n",
    "plt.title('Three Points Made/Attempt')\n",
    "plt.show()"
   ]
  },
  {
   "cell_type": "markdown",
   "metadata": {},
   "source": [
    "# Average Age Histogram"
   ]
  },
  {
   "cell_type": "code",
   "execution_count": 20,
   "metadata": {},
   "outputs": [
    {
     "data": {
      "image/png": "[encoded data removed]",
      "text/plain": [
       "<Figure size 648x360 with 1 Axes>"
      ]
     },
     "metadata": {
      "needs_background": "light"
     },
     "output_type": "display_data"
    }
   ],
   "source": [
    "import numpy as np\n",
    "Ages = 2020 - NBA_19_20['birth_year']\n",
    "bins = [20,25,30,35,40,45]\n",
    "\n",
    "plt.hist(Ages, bins=bins, edgecolor = 'black', color='blue')\n",
    "plt.axvline(np.mean(Ages), color='red', label='Age Average')\n",
    "\n",
    "plt.title('Ages of the NBA 2019-2020 Season')\n",
    "plt.xlabel('Ages')\n",
    "plt.legend()\n",
    "plt.show()"
   ]
  },
  {
   "cell_type": "code",
   "execution_count": 21,
   "metadata": {},
   "outputs": [
    {
     "data": {
      "image/png": "[encoded data removed]",
      "text/plain": [
       "<Figure size 648x360 with 1 Axes>"
      ]
     },
     "metadata": {
      "needs_background": "light"
     },
     "output_type": "display_data"
    }
   ],
   "source": [
    "Age2 = 2020 - DF_19_20['birth_year']\n",
    "bins = [20,25,30,35,40,45]\n",
    "\n",
    "plt.hist(Age2, bins=bins, edgecolor = 'black', color='blue')\n",
    "plt.axvline(np.mean(Age2), color='red', label='Age Average')\n",
    "\n",
    "plt.title('Ages of Every League of Basketball')\n",
    "plt.xlabel('Ages')\n",
    "plt.legend()\n",
    "plt.show()"
   ]
  },
  {
   "cell_type": "markdown",
   "metadata": {},
   "source": [
    "I thought that The NBA league would have more youngers player than the international Leagues but they are roughly the same. "
   ]
  },
  {
   "cell_type": "markdown",
   "metadata": {},
   "source": [
    "# Points/TOV Bar Graph"
   ]
  },
  {
   "cell_type": "markdown",
   "metadata": {},
   "source": [
    "Let's see the top five players with the turnovers and compare it to how many point they score."
   ]
  },
  {
   "cell_type": "code",
   "execution_count": 22,
   "metadata": {},
   "outputs": [
    {
     "data": {
      "text/plain": [
       "Index(['League', 'Season', 'Player', 'Team', 'GP', 'MIN', 'FGM', 'FGA', '3PA',\n",
       "       '3PM', 'FTM', 'FTA', 'TOV', 'PF', 'ORB', 'DRB', 'REB', 'AST', 'STL',\n",
       "       'BLK', 'PTS', 'birth_year', '3PR', 'OVR'],\n",
       "      dtype='object')"
      ]
     },
     "execution_count": 22,
     "metadata": {},
     "output_type": "execute_result"
    }
   ],
   "source": [
    "NBA_19_20.columns"
   ]
  },
  {
   "cell_type": "code",
   "execution_count": 23,
   "metadata": {},
   "outputs": [
    {
     "data": {
      "text/html": [
       "<div>\n",
       "<style scoped>\n",
       "    .dataframe tbody tr th:only-of-type {\n",
       "        vertical-align: middle;\n",
       "    }\n",
       "\n",
       "    .dataframe tbody tr th {\n",
       "        vertical-align: top;\n",
       "    }\n",
       "\n",
       "    .dataframe thead th {\n",
       "        text-align: right;\n",
       "    }\n",
       "</style>\n",
       "<table border=\"1\" class=\"dataframe\">\n",
       "  <thead>\n",
       "    <tr style=\"text-align: right;\">\n",
       "      <th></th>\n",
       "      <th>Player</th>\n",
       "      <th>TOV</th>\n",
       "      <th>PTS</th>\n",
       "    </tr>\n",
       "  </thead>\n",
       "  <tbody>\n",
       "    <tr>\n",
       "      <th>0</th>\n",
       "      <td>James Harden</td>\n",
       "      <td>308</td>\n",
       "      <td>2335</td>\n",
       "    </tr>\n",
       "    <tr>\n",
       "      <th>4</th>\n",
       "      <td>Trae Young</td>\n",
       "      <td>289</td>\n",
       "      <td>1778</td>\n",
       "    </tr>\n",
       "    <tr>\n",
       "      <th>2</th>\n",
       "      <td>Devin Booker</td>\n",
       "      <td>264</td>\n",
       "      <td>1863</td>\n",
       "    </tr>\n",
       "    <tr>\n",
       "      <th>7</th>\n",
       "      <td>LeBron James</td>\n",
       "      <td>261</td>\n",
       "      <td>1698</td>\n",
       "    </tr>\n",
       "    <tr>\n",
       "      <th>5</th>\n",
       "      <td>Luka Doncic</td>\n",
       "      <td>260</td>\n",
       "      <td>1759</td>\n",
       "    </tr>\n",
       "    <tr>\n",
       "      <th>11</th>\n",
       "      <td>Russell Westbrook</td>\n",
       "      <td>255</td>\n",
       "      <td>1553</td>\n",
       "    </tr>\n",
       "    <tr>\n",
       "      <th>3</th>\n",
       "      <td>Giannis Antetokounmpo</td>\n",
       "      <td>230</td>\n",
       "      <td>1857</td>\n",
       "    </tr>\n",
       "    <tr>\n",
       "      <th>17</th>\n",
       "      <td>Nikola Jokic</td>\n",
       "      <td>226</td>\n",
       "      <td>1456</td>\n",
       "    </tr>\n",
       "    <tr>\n",
       "      <th>32</th>\n",
       "      <td>Ja Morant</td>\n",
       "      <td>220</td>\n",
       "      <td>1193</td>\n",
       "    </tr>\n",
       "    <tr>\n",
       "      <th>14</th>\n",
       "      <td>Zach LaVine</td>\n",
       "      <td>206</td>\n",
       "      <td>1530</td>\n",
       "    </tr>\n",
       "  </tbody>\n",
       "</table>\n",
       "</div>"
      ],
      "text/plain": [
       "                   Player  TOV   PTS\n",
       "0            James Harden  308  2335\n",
       "4              Trae Young  289  1778\n",
       "2            Devin Booker  264  1863\n",
       "7            LeBron James  261  1698\n",
       "5             Luka Doncic  260  1759\n",
       "11      Russell Westbrook  255  1553\n",
       "3   Giannis Antetokounmpo  230  1857\n",
       "17           Nikola Jokic  226  1456\n",
       "32              Ja Morant  220  1193\n",
       "14            Zach LaVine  206  1530"
      ]
     },
     "execution_count": 23,
     "metadata": {},
     "output_type": "execute_result"
    }
   ],
   "source": [
    "turnovers = NBA_19_20.sort_values('TOV',ascending=False)[['Player', 'TOV','PTS']].head(10)\n",
    "turnovers"
   ]
  },
  {
   "cell_type": "markdown",
   "metadata": {},
   "source": [
    "Here is a bar graph to show the the top ten turnover in the NBA 2019 - 2020 season. "
   ]
  },
  {
   "cell_type": "code",
   "execution_count": 95,
   "metadata": {},
   "outputs": [
    {
     "data": {
      "image/png": "[encoded data removed]",
      "text/plain": [
       "<Figure size 648x360 with 1 Axes>"
      ]
     },
     "metadata": {
      "needs_background": "light"
     },
     "output_type": "display_data"
    }
   ],
   "source": [
    "width = 0.25\n",
    "xindex = np.arange(turnovers.shape[0])\n",
    "\n",
    "plt.bar(xindex, turnovers['PTS'],width=width, label='Points')\n",
    "plt.bar(xindex + width, turnovers['TOV'], width =width, label='Turnovers')\n",
    "\n",
    "plt.xticks(ticks=xindex, labels=turnovers['Player'], rotation=45)\n",
    "plt.legend()\n",
    "plt.title('Top ten Players with highest TOV')\n",
    "plt.xlabel('Players')\n",
    "plt.ylabel('Points/TOV')\n",
    "plt.show()"
   ]
  },
  {
   "cell_type": "markdown",
   "metadata": {},
   "source": [
    "I thought that the players with the highest turnovers had the most points but I did not expect it to have a wide gap between points and turnovers. The reason for the turnovers are that the players have the ball in their hands for most of the game. They are likely to turnover the ball."
   ]
  },
  {
   "cell_type": "markdown",
   "metadata": {},
   "source": [
    "# Most Games played"
   ]
  },
  {
   "cell_type": "markdown",
   "metadata": {},
   "source": [
    "We'll see the players that play the most games with more than 1200 points."
   ]
  },
  {
   "cell_type": "code",
   "execution_count": 70,
   "metadata": {},
   "outputs": [
    {
     "name": "stderr",
     "output_type": "stream",
     "text": [
      "<ipython-input-70-5315335a3bd3>:1: UserWarning: Boolean Series key will be reindexed to match DataFrame index.\n",
      "  GP = NBA_19_20.sort_values('GP', ascending=False)[(NBA_19_20['PTS'] >=1200)]\n"
     ]
    },
    {
     "data": {
      "text/html": [
       "<div>\n",
       "<style scoped>\n",
       "    .dataframe tbody tr th:only-of-type {\n",
       "        vertical-align: middle;\n",
       "    }\n",
       "\n",
       "    .dataframe tbody tr th {\n",
       "        vertical-align: top;\n",
       "    }\n",
       "\n",
       "    .dataframe thead th {\n",
       "        text-align: right;\n",
       "    }\n",
       "</style>\n",
       "<table border=\"1\" class=\"dataframe\">\n",
       "  <thead>\n",
       "    <tr style=\"text-align: right;\">\n",
       "      <th></th>\n",
       "      <th>Player</th>\n",
       "      <th>GP</th>\n",
       "      <th>PTS</th>\n",
       "      <th>AST</th>\n",
       "    </tr>\n",
       "  </thead>\n",
       "  <tbody>\n",
       "    <tr>\n",
       "      <th>17</th>\n",
       "      <td>Nikola Jokic</td>\n",
       "      <td>73</td>\n",
       "      <td>1456</td>\n",
       "      <td>512</td>\n",
       "    </tr>\n",
       "    <tr>\n",
       "      <th>19</th>\n",
       "      <td>Buddy Hield</td>\n",
       "      <td>72</td>\n",
       "      <td>1382</td>\n",
       "      <td>213</td>\n",
       "    </tr>\n",
       "    <tr>\n",
       "      <th>18</th>\n",
       "      <td>Tobias Harris</td>\n",
       "      <td>72</td>\n",
       "      <td>1410</td>\n",
       "      <td>227</td>\n",
       "    </tr>\n",
       "    <tr>\n",
       "      <th>22</th>\n",
       "      <td>Shai Gilgeous-Alexander</td>\n",
       "      <td>70</td>\n",
       "      <td>1331</td>\n",
       "      <td>232</td>\n",
       "    </tr>\n",
       "    <tr>\n",
       "      <th>2</th>\n",
       "      <td>Devin Booker</td>\n",
       "      <td>70</td>\n",
       "      <td>1863</td>\n",
       "      <td>456</td>\n",
       "    </tr>\n",
       "    <tr>\n",
       "      <th>10</th>\n",
       "      <td>C.J. McCollum</td>\n",
       "      <td>70</td>\n",
       "      <td>1556</td>\n",
       "      <td>310</td>\n",
       "    </tr>\n",
       "    <tr>\n",
       "      <th>28</th>\n",
       "      <td>Chris Paul</td>\n",
       "      <td>70</td>\n",
       "      <td>1232</td>\n",
       "      <td>472</td>\n",
       "    </tr>\n",
       "    <tr>\n",
       "      <th>8</th>\n",
       "      <td>Donovan Mitchell</td>\n",
       "      <td>69</td>\n",
       "      <td>1655</td>\n",
       "      <td>294</td>\n",
       "    </tr>\n",
       "    <tr>\n",
       "      <th>0</th>\n",
       "      <td>James Harden</td>\n",
       "      <td>68</td>\n",
       "      <td>2335</td>\n",
       "      <td>512</td>\n",
       "    </tr>\n",
       "    <tr>\n",
       "      <th>15</th>\n",
       "      <td>DeMar DeRozan</td>\n",
       "      <td>68</td>\n",
       "      <td>1504</td>\n",
       "      <td>379</td>\n",
       "    </tr>\n",
       "  </tbody>\n",
       "</table>\n",
       "</div>"
      ],
      "text/plain": [
       "                     Player  GP   PTS  AST\n",
       "17             Nikola Jokic  73  1456  512\n",
       "19              Buddy Hield  72  1382  213\n",
       "18            Tobias Harris  72  1410  227\n",
       "22  Shai Gilgeous-Alexander  70  1331  232\n",
       "2              Devin Booker  70  1863  456\n",
       "10            C.J. McCollum  70  1556  310\n",
       "28               Chris Paul  70  1232  472\n",
       "8          Donovan Mitchell  69  1655  294\n",
       "0              James Harden  68  2335  512\n",
       "15            DeMar DeRozan  68  1504  379"
      ]
     },
     "execution_count": 70,
     "metadata": {},
     "output_type": "execute_result"
    }
   ],
   "source": [
    "GP = NBA_19_20.sort_values('GP', ascending=False)[(NBA_19_20['PTS'] >=1200)]\n",
    "GP[['Player','GP','PTS','AST']].head(10)"
   ]
  },
  {
   "cell_type": "code",
   "execution_count": 96,
   "metadata": {},
   "outputs": [
    {
     "data": {
      "image/png": "[encoded data removed]",
      "text/plain": [
       "<Figure size 648x360 with 1 Axes>"
      ]
     },
     "metadata": {
      "needs_background": "light"
     },
     "output_type": "display_data"
    }
   ],
   "source": [
    "width = .25\n",
    "x_index = np.arange(10)\n",
    "\n",
    "plt.bar(x_index, NBA_19_20['PTS'].head(10), width = width, label = 'Points')\n",
    "plt.bar(x_index + width, NBA_19_20['AST'].head(10), width = width, label='AST', color='green')\n",
    "plt.bar(x_index - width, NBA_19_20['GP'].head(10), width = width, label='AST', color='red')\n",
    "\n",
    "plt.xticks(ticks=x_index, labels=NBA_19_20['Player'].head(10), rotation=45)\n",
    "plt.legend()\n",
    "plt.title('Top players with over 1000 PTS and 200 AST')\n",
    "plt.xlabel('Player')\n",
    "plt.show()"
   ]
  },
  {
   "cell_type": "code",
   "execution_count": 21,
   "metadata": {},
   "outputs": [],
   "source": [
    "import jovian"
   ]
  },
  {
   "cell_type": "code",
   "execution_count": 51,
   "metadata": {},
   "outputs": [
    {
     "data": {
      "application/javascript": [
       "window.require && require([\"base/js/namespace\"],function(Jupyter){Jupyter.notebook.save_checkpoint()})"
      ],
      "text/plain": [
       "<IPython.core.display.Javascript object>"
      ]
     },
     "metadata": {},
     "output_type": "display_data"
    },
    {
     "name": "stdout",
     "output_type": "stream",
     "text": [
      "[jovian] Attempting to save notebook..\u001b[0m\n",
      "[jovian] Updating notebook \"josh-ramrz/zerotopandas-final-project\" on https://jovian.ml/\u001b[0m\n",
      "[jovian] Uploading notebook..\u001b[0m\n",
      "[jovian] Capturing environment..\u001b[0m\n",
      "[jovian] Committed successfully! https://jovian.ml/josh-ramrz/zerotopandas-final-project\u001b[0m\n"
     ]
    },
    {
     "data": {
      "text/plain": [
       "'https://jovian.ml/josh-ramrz/zerotopandas-final-project'"
      ]
     },
     "execution_count": 51,
     "metadata": {},
     "output_type": "execute_result"
    }
   ],
   "source": [
    "jovian.commit()"
   ]
  },
  {
   "cell_type": "markdown",
   "metadata": {},
   "source": [
    "## Asking and Answering Questions\n",
    "\n"
   ]
  },
  {
   "cell_type": "markdown",
   "metadata": {},
   "source": [
    "Here is a summary of the Whole league."
   ]
  },
  {
   "cell_type": "code",
   "execution_count": 23,
   "metadata": {},
   "outputs": [
    {
     "data": {
      "text/html": [
       "<div>\n",
       "<style scoped>\n",
       "    .dataframe tbody tr th:only-of-type {\n",
       "        vertical-align: middle;\n",
       "    }\n",
       "\n",
       "    .dataframe tbody tr th {\n",
       "        vertical-align: top;\n",
       "    }\n",
       "\n",
       "    .dataframe thead th {\n",
       "        text-align: right;\n",
       "    }\n",
       "</style>\n",
       "<table border=\"1\" class=\"dataframe\">\n",
       "  <thead>\n",
       "    <tr style=\"text-align: right;\">\n",
       "      <th></th>\n",
       "      <th>GP</th>\n",
       "      <th>MIN</th>\n",
       "      <th>FGM</th>\n",
       "      <th>FGA</th>\n",
       "      <th>3PM</th>\n",
       "      <th>3PA</th>\n",
       "      <th>FTM</th>\n",
       "      <th>FTA</th>\n",
       "      <th>TOV</th>\n",
       "      <th>PF</th>\n",
       "      <th>...</th>\n",
       "      <th>DRB</th>\n",
       "      <th>REB</th>\n",
       "      <th>AST</th>\n",
       "      <th>STL</th>\n",
       "      <th>BLK</th>\n",
       "      <th>PTS</th>\n",
       "      <th>birth_year</th>\n",
       "      <th>height_cm</th>\n",
       "      <th>weight</th>\n",
       "      <th>weight_kg</th>\n",
       "    </tr>\n",
       "  </thead>\n",
       "  <tbody>\n",
       "    <tr>\n",
       "      <th>count</th>\n",
       "      <td>7116.000000</td>\n",
       "      <td>7116.000000</td>\n",
       "      <td>7116.000000</td>\n",
       "      <td>7116.000000</td>\n",
       "      <td>7116.000000</td>\n",
       "      <td>7116.000000</td>\n",
       "      <td>7116.000000</td>\n",
       "      <td>7116.000000</td>\n",
       "      <td>7116.000000</td>\n",
       "      <td>7116.000000</td>\n",
       "      <td>...</td>\n",
       "      <td>7116.000000</td>\n",
       "      <td>7116.000000</td>\n",
       "      <td>7116.000000</td>\n",
       "      <td>7116.000000</td>\n",
       "      <td>7116.000000</td>\n",
       "      <td>7116.000000</td>\n",
       "      <td>6976.000000</td>\n",
       "      <td>7080.000000</td>\n",
       "      <td>5945.000000</td>\n",
       "      <td>5945.000000</td>\n",
       "    </tr>\n",
       "    <tr>\n",
       "      <th>mean</th>\n",
       "      <td>21.569562</td>\n",
       "      <td>466.311411</td>\n",
       "      <td>70.961776</td>\n",
       "      <td>154.013491</td>\n",
       "      <td>20.693367</td>\n",
       "      <td>59.126476</td>\n",
       "      <td>33.113125</td>\n",
       "      <td>44.820405</td>\n",
       "      <td>28.962198</td>\n",
       "      <td>44.854272</td>\n",
       "      <td>...</td>\n",
       "      <td>57.647274</td>\n",
       "      <td>78.634907</td>\n",
       "      <td>42.215992</td>\n",
       "      <td>16.409359</td>\n",
       "      <td>6.023187</td>\n",
       "      <td>195.755762</td>\n",
       "      <td>1992.602494</td>\n",
       "      <td>196.499294</td>\n",
       "      <td>204.883768</td>\n",
       "      <td>92.964844</td>\n",
       "    </tr>\n",
       "    <tr>\n",
       "      <th>std</th>\n",
       "      <td>11.225702</td>\n",
       "      <td>338.236226</td>\n",
       "      <td>67.578446</td>\n",
       "      <td>141.081920</td>\n",
       "      <td>24.304010</td>\n",
       "      <td>63.933267</td>\n",
       "      <td>38.227455</td>\n",
       "      <td>48.446533</td>\n",
       "      <td>24.492478</td>\n",
       "      <td>29.125497</td>\n",
       "      <td>...</td>\n",
       "      <td>57.053366</td>\n",
       "      <td>76.272574</td>\n",
       "      <td>49.333462</td>\n",
       "      <td>14.408470</td>\n",
       "      <td>10.462523</td>\n",
       "      <td>186.896736</td>\n",
       "      <td>4.700259</td>\n",
       "      <td>8.645586</td>\n",
       "      <td>24.800756</td>\n",
       "      <td>11.250076</td>\n",
       "    </tr>\n",
       "    <tr>\n",
       "      <th>min</th>\n",
       "      <td>1.000000</td>\n",
       "      <td>13.000000</td>\n",
       "      <td>0.000000</td>\n",
       "      <td>1.000000</td>\n",
       "      <td>0.000000</td>\n",
       "      <td>0.000000</td>\n",
       "      <td>0.000000</td>\n",
       "      <td>0.000000</td>\n",
       "      <td>0.000000</td>\n",
       "      <td>0.000000</td>\n",
       "      <td>...</td>\n",
       "      <td>0.000000</td>\n",
       "      <td>0.000000</td>\n",
       "      <td>0.000000</td>\n",
       "      <td>0.000000</td>\n",
       "      <td>0.000000</td>\n",
       "      <td>0.000000</td>\n",
       "      <td>1970.000000</td>\n",
       "      <td>160.000000</td>\n",
       "      <td>130.000000</td>\n",
       "      <td>59.000000</td>\n",
       "    </tr>\n",
       "    <tr>\n",
       "      <th>25%</th>\n",
       "      <td>15.000000</td>\n",
       "      <td>249.350000</td>\n",
       "      <td>29.000000</td>\n",
       "      <td>68.000000</td>\n",
       "      <td>4.000000</td>\n",
       "      <td>16.000000</td>\n",
       "      <td>10.000000</td>\n",
       "      <td>15.000000</td>\n",
       "      <td>13.000000</td>\n",
       "      <td>26.000000</td>\n",
       "      <td>...</td>\n",
       "      <td>24.000000</td>\n",
       "      <td>32.000000</td>\n",
       "      <td>13.000000</td>\n",
       "      <td>7.000000</td>\n",
       "      <td>1.000000</td>\n",
       "      <td>80.000000</td>\n",
       "      <td>1989.000000</td>\n",
       "      <td>191.000000</td>\n",
       "      <td>186.000000</td>\n",
       "      <td>84.000000</td>\n",
       "    </tr>\n",
       "    <tr>\n",
       "      <th>50%</th>\n",
       "      <td>20.000000</td>\n",
       "      <td>401.400000</td>\n",
       "      <td>56.000000</td>\n",
       "      <td>123.000000</td>\n",
       "      <td>14.000000</td>\n",
       "      <td>44.000000</td>\n",
       "      <td>23.000000</td>\n",
       "      <td>33.000000</td>\n",
       "      <td>23.000000</td>\n",
       "      <td>40.000000</td>\n",
       "      <td>...</td>\n",
       "      <td>44.000000</td>\n",
       "      <td>59.000000</td>\n",
       "      <td>28.000000</td>\n",
       "      <td>13.000000</td>\n",
       "      <td>3.000000</td>\n",
       "      <td>154.000000</td>\n",
       "      <td>1993.000000</td>\n",
       "      <td>196.000000</td>\n",
       "      <td>202.000000</td>\n",
       "      <td>92.000000</td>\n",
       "    </tr>\n",
       "    <tr>\n",
       "      <th>75%</th>\n",
       "      <td>25.000000</td>\n",
       "      <td>583.075000</td>\n",
       "      <td>91.000000</td>\n",
       "      <td>194.000000</td>\n",
       "      <td>29.000000</td>\n",
       "      <td>81.000000</td>\n",
       "      <td>43.000000</td>\n",
       "      <td>58.000000</td>\n",
       "      <td>38.000000</td>\n",
       "      <td>56.000000</td>\n",
       "      <td>...</td>\n",
       "      <td>72.000000</td>\n",
       "      <td>100.000000</td>\n",
       "      <td>53.000000</td>\n",
       "      <td>22.000000</td>\n",
       "      <td>7.000000</td>\n",
       "      <td>251.000000</td>\n",
       "      <td>1996.000000</td>\n",
       "      <td>203.000000</td>\n",
       "      <td>220.000000</td>\n",
       "      <td>100.000000</td>\n",
       "    </tr>\n",
       "    <tr>\n",
       "      <th>max</th>\n",
       "      <td>74.000000</td>\n",
       "      <td>2556.400000</td>\n",
       "      <td>685.000000</td>\n",
       "      <td>1514.000000</td>\n",
       "      <td>299.000000</td>\n",
       "      <td>843.000000</td>\n",
       "      <td>692.000000</td>\n",
       "      <td>800.000000</td>\n",
       "      <td>308.000000</td>\n",
       "      <td>278.000000</td>\n",
       "      <td>...</td>\n",
       "      <td>716.000000</td>\n",
       "      <td>916.000000</td>\n",
       "      <td>684.000000</td>\n",
       "      <td>132.000000</td>\n",
       "      <td>196.000000</td>\n",
       "      <td>2335.000000</td>\n",
       "      <td>2004.000000</td>\n",
       "      <td>229.000000</td>\n",
       "      <td>304.000000</td>\n",
       "      <td>138.000000</td>\n",
       "    </tr>\n",
       "  </tbody>\n",
       "</table>\n",
       "<p>8 rows × 21 columns</p>\n",
       "</div>"
      ],
      "text/plain": [
       "                GP          MIN          FGM          FGA          3PM  \\\n",
       "count  7116.000000  7116.000000  7116.000000  7116.000000  7116.000000   \n",
       "mean     21.569562   466.311411    70.961776   154.013491    20.693367   \n",
       "std      11.225702   338.236226    67.578446   141.081920    24.304010   \n",
       "min       1.000000    13.000000     0.000000     1.000000     0.000000   \n",
       "25%      15.000000   249.350000    29.000000    68.000000     4.000000   \n",
       "50%      20.000000   401.400000    56.000000   123.000000    14.000000   \n",
       "75%      25.000000   583.075000    91.000000   194.000000    29.000000   \n",
       "max      74.000000  2556.400000   685.000000  1514.000000   299.000000   \n",
       "\n",
       "               3PA          FTM          FTA          TOV           PF  ...  \\\n",
       "count  7116.000000  7116.000000  7116.000000  7116.000000  7116.000000  ...   \n",
       "mean     59.126476    33.113125    44.820405    28.962198    44.854272  ...   \n",
       "std      63.933267    38.227455    48.446533    24.492478    29.125497  ...   \n",
       "min       0.000000     0.000000     0.000000     0.000000     0.000000  ...   \n",
       "25%      16.000000    10.000000    15.000000    13.000000    26.000000  ...   \n",
       "50%      44.000000    23.000000    33.000000    23.000000    40.000000  ...   \n",
       "75%      81.000000    43.000000    58.000000    38.000000    56.000000  ...   \n",
       "max     843.000000   692.000000   800.000000   308.000000   278.000000  ...   \n",
       "\n",
       "               DRB          REB          AST          STL          BLK  \\\n",
       "count  7116.000000  7116.000000  7116.000000  7116.000000  7116.000000   \n",
       "mean     57.647274    78.634907    42.215992    16.409359     6.023187   \n",
       "std      57.053366    76.272574    49.333462    14.408470    10.462523   \n",
       "min       0.000000     0.000000     0.000000     0.000000     0.000000   \n",
       "25%      24.000000    32.000000    13.000000     7.000000     1.000000   \n",
       "50%      44.000000    59.000000    28.000000    13.000000     3.000000   \n",
       "75%      72.000000   100.000000    53.000000    22.000000     7.000000   \n",
       "max     716.000000   916.000000   684.000000   132.000000   196.000000   \n",
       "\n",
       "               PTS   birth_year    height_cm       weight    weight_kg  \n",
       "count  7116.000000  6976.000000  7080.000000  5945.000000  5945.000000  \n",
       "mean    195.755762  1992.602494   196.499294   204.883768    92.964844  \n",
       "std     186.896736     4.700259     8.645586    24.800756    11.250076  \n",
       "min       0.000000  1970.000000   160.000000   130.000000    59.000000  \n",
       "25%      80.000000  1989.000000   191.000000   186.000000    84.000000  \n",
       "50%     154.000000  1993.000000   196.000000   202.000000    92.000000  \n",
       "75%     251.000000  1996.000000   203.000000   220.000000   100.000000  \n",
       "max    2335.000000  2004.000000   229.000000   304.000000   138.000000  \n",
       "\n",
       "[8 rows x 21 columns]"
      ]
     },
     "execution_count": 23,
     "metadata": {},
     "output_type": "execute_result"
    }
   ],
   "source": [
    "DF_19_20.describe()"
   ]
  },
  {
   "cell_type": "markdown",
   "metadata": {},
   "source": [
    "Here is a summary of the NBA league."
   ]
  },
  {
   "cell_type": "code",
   "execution_count": 24,
   "metadata": {},
   "outputs": [
    {
     "data": {
      "text/html": [
       "<div>\n",
       "<style scoped>\n",
       "    .dataframe tbody tr th:only-of-type {\n",
       "        vertical-align: middle;\n",
       "    }\n",
       "\n",
       "    .dataframe tbody tr th {\n",
       "        vertical-align: top;\n",
       "    }\n",
       "\n",
       "    .dataframe thead th {\n",
       "        text-align: right;\n",
       "    }\n",
       "</style>\n",
       "<table border=\"1\" class=\"dataframe\">\n",
       "  <thead>\n",
       "    <tr style=\"text-align: right;\">\n",
       "      <th></th>\n",
       "      <th>GP</th>\n",
       "      <th>MIN</th>\n",
       "      <th>FGM</th>\n",
       "      <th>FGA</th>\n",
       "      <th>3PA</th>\n",
       "      <th>3PM</th>\n",
       "      <th>FTM</th>\n",
       "      <th>FTA</th>\n",
       "      <th>TOV</th>\n",
       "      <th>PF</th>\n",
       "      <th>ORB</th>\n",
       "      <th>DRB</th>\n",
       "      <th>REB</th>\n",
       "      <th>AST</th>\n",
       "      <th>STL</th>\n",
       "      <th>BLK</th>\n",
       "      <th>PTS</th>\n",
       "      <th>birth_year</th>\n",
       "      <th>3PR</th>\n",
       "    </tr>\n",
       "  </thead>\n",
       "  <tbody>\n",
       "    <tr>\n",
       "      <th>count</th>\n",
       "      <td>278.000000</td>\n",
       "      <td>278.000000</td>\n",
       "      <td>278.000000</td>\n",
       "      <td>278.000000</td>\n",
       "      <td>278.000000</td>\n",
       "      <td>278.000000</td>\n",
       "      <td>278.000000</td>\n",
       "      <td>278.000000</td>\n",
       "      <td>278.000000</td>\n",
       "      <td>278.000000</td>\n",
       "      <td>278.000000</td>\n",
       "      <td>278.000000</td>\n",
       "      <td>278.000000</td>\n",
       "      <td>278.000000</td>\n",
       "      <td>278.000000</td>\n",
       "      <td>278.000000</td>\n",
       "      <td>278.000000</td>\n",
       "      <td>278.000000</td>\n",
       "      <td>272.000000</td>\n",
       "    </tr>\n",
       "    <tr>\n",
       "      <th>mean</th>\n",
       "      <td>60.471223</td>\n",
       "      <td>1529.493885</td>\n",
       "      <td>263.384892</td>\n",
       "      <td>570.244604</td>\n",
       "      <td>220.327338</td>\n",
       "      <td>79.996403</td>\n",
       "      <td>117.323741</td>\n",
       "      <td>150.589928</td>\n",
       "      <td>88.449640</td>\n",
       "      <td>126.115108</td>\n",
       "      <td>61.593525</td>\n",
       "      <td>220.071942</td>\n",
       "      <td>281.665468</td>\n",
       "      <td>158.298561</td>\n",
       "      <td>48.381295</td>\n",
       "      <td>30.327338</td>\n",
       "      <td>724.089928</td>\n",
       "      <td>1992.956835</td>\n",
       "      <td>0.344688</td>\n",
       "    </tr>\n",
       "    <tr>\n",
       "      <th>std</th>\n",
       "      <td>8.773374</td>\n",
       "      <td>480.122947</td>\n",
       "      <td>138.945745</td>\n",
       "      <td>293.843148</td>\n",
       "      <td>146.876200</td>\n",
       "      <td>57.157677</td>\n",
       "      <td>98.720860</td>\n",
       "      <td>120.597718</td>\n",
       "      <td>53.935675</td>\n",
       "      <td>42.337322</td>\n",
       "      <td>47.988832</td>\n",
       "      <td>118.182606</td>\n",
       "      <td>156.545260</td>\n",
       "      <td>122.142460</td>\n",
       "      <td>23.877212</td>\n",
       "      <td>28.128715</td>\n",
       "      <td>396.580923</td>\n",
       "      <td>4.138174</td>\n",
       "      <td>0.086926</td>\n",
       "    </tr>\n",
       "    <tr>\n",
       "      <th>min</th>\n",
       "      <td>18.000000</td>\n",
       "      <td>268.500000</td>\n",
       "      <td>25.000000</td>\n",
       "      <td>71.000000</td>\n",
       "      <td>0.000000</td>\n",
       "      <td>0.000000</td>\n",
       "      <td>15.000000</td>\n",
       "      <td>20.000000</td>\n",
       "      <td>8.000000</td>\n",
       "      <td>27.000000</td>\n",
       "      <td>6.000000</td>\n",
       "      <td>37.000000</td>\n",
       "      <td>45.000000</td>\n",
       "      <td>8.000000</td>\n",
       "      <td>7.000000</td>\n",
       "      <td>0.000000</td>\n",
       "      <td>78.000000</td>\n",
       "      <td>1977.000000</td>\n",
       "      <td>0.000000</td>\n",
       "    </tr>\n",
       "    <tr>\n",
       "      <th>25%</th>\n",
       "      <td>56.000000</td>\n",
       "      <td>1167.750000</td>\n",
       "      <td>157.250000</td>\n",
       "      <td>331.500000</td>\n",
       "      <td>119.250000</td>\n",
       "      <td>37.250000</td>\n",
       "      <td>51.000000</td>\n",
       "      <td>70.250000</td>\n",
       "      <td>51.250000</td>\n",
       "      <td>98.000000</td>\n",
       "      <td>27.000000</td>\n",
       "      <td>133.250000</td>\n",
       "      <td>167.250000</td>\n",
       "      <td>77.000000</td>\n",
       "      <td>31.250000</td>\n",
       "      <td>12.000000</td>\n",
       "      <td>420.000000</td>\n",
       "      <td>1990.000000</td>\n",
       "      <td>0.325926</td>\n",
       "    </tr>\n",
       "    <tr>\n",
       "      <th>50%</th>\n",
       "      <td>61.500000</td>\n",
       "      <td>1567.900000</td>\n",
       "      <td>237.000000</td>\n",
       "      <td>527.000000</td>\n",
       "      <td>206.500000</td>\n",
       "      <td>72.500000</td>\n",
       "      <td>84.500000</td>\n",
       "      <td>111.000000</td>\n",
       "      <td>75.500000</td>\n",
       "      <td>124.000000</td>\n",
       "      <td>50.000000</td>\n",
       "      <td>196.500000</td>\n",
       "      <td>251.000000</td>\n",
       "      <td>114.500000</td>\n",
       "      <td>45.000000</td>\n",
       "      <td>22.000000</td>\n",
       "      <td>644.500000</td>\n",
       "      <td>1993.000000</td>\n",
       "      <td>0.354996</td>\n",
       "    </tr>\n",
       "    <tr>\n",
       "      <th>75%</th>\n",
       "      <td>66.000000</td>\n",
       "      <td>1908.625000</td>\n",
       "      <td>336.750000</td>\n",
       "      <td>753.000000</td>\n",
       "      <td>316.500000</td>\n",
       "      <td>114.750000</td>\n",
       "      <td>157.750000</td>\n",
       "      <td>194.750000</td>\n",
       "      <td>109.000000</td>\n",
       "      <td>155.750000</td>\n",
       "      <td>77.000000</td>\n",
       "      <td>275.500000</td>\n",
       "      <td>363.500000</td>\n",
       "      <td>211.250000</td>\n",
       "      <td>61.000000</td>\n",
       "      <td>38.750000</td>\n",
       "      <td>948.250000</td>\n",
       "      <td>1996.000000</td>\n",
       "      <td>0.385062</td>\n",
       "    </tr>\n",
       "    <tr>\n",
       "      <th>max</th>\n",
       "      <td>74.000000</td>\n",
       "      <td>2556.400000</td>\n",
       "      <td>685.000000</td>\n",
       "      <td>1514.000000</td>\n",
       "      <td>843.000000</td>\n",
       "      <td>299.000000</td>\n",
       "      <td>692.000000</td>\n",
       "      <td>800.000000</td>\n",
       "      <td>308.000000</td>\n",
       "      <td>278.000000</td>\n",
       "      <td>258.000000</td>\n",
       "      <td>716.000000</td>\n",
       "      <td>916.000000</td>\n",
       "      <td>684.000000</td>\n",
       "      <td>125.000000</td>\n",
       "      <td>196.000000</td>\n",
       "      <td>2335.000000</td>\n",
       "      <td>2000.000000</td>\n",
       "      <td>1.000000</td>\n",
       "    </tr>\n",
       "  </tbody>\n",
       "</table>\n",
       "</div>"
      ],
      "text/plain": [
       "               GP          MIN         FGM          FGA         3PA  \\\n",
       "count  278.000000   278.000000  278.000000   278.000000  278.000000   \n",
       "mean    60.471223  1529.493885  263.384892   570.244604  220.327338   \n",
       "std      8.773374   480.122947  138.945745   293.843148  146.876200   \n",
       "min     18.000000   268.500000   25.000000    71.000000    0.000000   \n",
       "25%     56.000000  1167.750000  157.250000   331.500000  119.250000   \n",
       "50%     61.500000  1567.900000  237.000000   527.000000  206.500000   \n",
       "75%     66.000000  1908.625000  336.750000   753.000000  316.500000   \n",
       "max     74.000000  2556.400000  685.000000  1514.000000  843.000000   \n",
       "\n",
       "              3PM         FTM         FTA         TOV          PF         ORB  \\\n",
       "count  278.000000  278.000000  278.000000  278.000000  278.000000  278.000000   \n",
       "mean    79.996403  117.323741  150.589928   88.449640  126.115108   61.593525   \n",
       "std     57.157677   98.720860  120.597718   53.935675   42.337322   47.988832   \n",
       "min      0.000000   15.000000   20.000000    8.000000   27.000000    6.000000   \n",
       "25%     37.250000   51.000000   70.250000   51.250000   98.000000   27.000000   \n",
       "50%     72.500000   84.500000  111.000000   75.500000  124.000000   50.000000   \n",
       "75%    114.750000  157.750000  194.750000  109.000000  155.750000   77.000000   \n",
       "max    299.000000  692.000000  800.000000  308.000000  278.000000  258.000000   \n",
       "\n",
       "              DRB         REB         AST         STL         BLK  \\\n",
       "count  278.000000  278.000000  278.000000  278.000000  278.000000   \n",
       "mean   220.071942  281.665468  158.298561   48.381295   30.327338   \n",
       "std    118.182606  156.545260  122.142460   23.877212   28.128715   \n",
       "min     37.000000   45.000000    8.000000    7.000000    0.000000   \n",
       "25%    133.250000  167.250000   77.000000   31.250000   12.000000   \n",
       "50%    196.500000  251.000000  114.500000   45.000000   22.000000   \n",
       "75%    275.500000  363.500000  211.250000   61.000000   38.750000   \n",
       "max    716.000000  916.000000  684.000000  125.000000  196.000000   \n",
       "\n",
       "               PTS   birth_year         3PR  \n",
       "count   278.000000   278.000000  272.000000  \n",
       "mean    724.089928  1992.956835    0.344688  \n",
       "std     396.580923     4.138174    0.086926  \n",
       "min      78.000000  1977.000000    0.000000  \n",
       "25%     420.000000  1990.000000    0.325926  \n",
       "50%     644.500000  1993.000000    0.354996  \n",
       "75%     948.250000  1996.000000    0.385062  \n",
       "max    2335.000000  2000.000000    1.000000  "
      ]
     },
     "execution_count": 24,
     "metadata": {},
     "output_type": "execute_result"
    }
   ],
   "source": [
    "NBA_19_20.describe()"
   ]
  },
  {
   "cell_type": "markdown",
   "metadata": {},
   "source": [
    "# Top Scorers in every League"
   ]
  },
  {
   "cell_type": "markdown",
   "metadata": {},
   "source": [
    "I want to know the top scorers of each of the leagues in the 2019 - 2020 season."
   ]
  },
  {
   "cell_type": "code",
   "execution_count": 24,
   "metadata": {},
   "outputs": [
    {
     "data": {
      "text/plain": [
       "array(['NBA', 'Euroleague', 'Israeli-BSL', 'Argentinian-Liga-A',\n",
       "       'Australian-NBL', 'Austrian-A-Bundesliga', 'Balkan-BIL',\n",
       "       'Belarusian-BPL', 'Belgium-Scooore-League', 'Bosnian-BiH-Liga',\n",
       "       'Brazilian-NBB', 'British-BBL', 'Bulgarian-NBL', 'Canadian-NBL',\n",
       "       'Chinese-CBA', 'Croatian-A-1-Liga', 'Czech-NBL',\n",
       "       'Danish-Basketligaen', 'Estonian-Latvian-Basketball-League',\n",
       "       'Eurocup', 'FIBA-Europe-Cup', 'Finnish-Korisliiga',\n",
       "       'French-Jeep-Elite', 'Georgian-Super-Liga', 'German-BBL',\n",
       "       'Greek-HEBA-A1', 'Hungarian-NBIA', 'Italian-Lega-Basket-Serie-A',\n",
       "       'Japanese-BLeague', 'Kosovo-FBK', 'Lebanese-Division-A',\n",
       "       'Lithuanian-LKL', 'Luxembourg-Total-League',\n",
       "       'Macedonian-Superleague', 'Mexican-LNBP', 'Netherlands-DBL',\n",
       "       'New-Zealand-NBL', 'Norwegian-BLNO', 'Polish-TBL',\n",
       "       'Romanian-Divizia-A', 'Serbian-KLS', 'Slovakian-Extraliga',\n",
       "       'Slovenian-SKL', 'South-Korean-KBL', 'Spanish-ACB',\n",
       "       'Swedish-Basketligan', 'Swiss-LNA', 'Turkish-BSL',\n",
       "       'Ukrainian-Superleague'], dtype=object)"
      ]
     },
     "execution_count": 24,
     "metadata": {},
     "output_type": "execute_result"
    }
   ],
   "source": [
    "DF_19_20.League.unique()"
   ]
  },
  {
   "cell_type": "code",
   "execution_count": 72,
   "metadata": {},
   "outputs": [
    {
     "name": "stdout",
     "output_type": "stream",
     "text": [
      "{'Argentinian-Liga-A': ['Kelsey Barlow', 507],\n",
      " 'Australian-NBL': ['Marcos Knight', 429],\n",
      " 'Austrian-A-Bundesliga': ['Anton Shoutvin', 486],\n",
      " 'Balkan-BIL': ['Nemanja Simovic', 160],\n",
      " 'Belarusian-BPL': ['Timofey Verevkin', 501],\n",
      " 'Belgium-Scooore-League': ['Hugh Robertson', 334],\n",
      " 'Bosnian-BiH-Liga': ['Marko Rikalo', 393],\n",
      " 'Brazilian-NBB': ['Shammell Stallworth', 489],\n",
      " 'British-BBL': ['Lovell Cook', 267],\n",
      " 'Bulgarian-NBL': ['Dimitar Marincheshki', 384],\n",
      " 'Canadian-NBL': ['Antoine Mason', 617],\n",
      " 'Chinese-CBA': ['Joe Young', 1687],\n",
      " 'Croatian-A-1-Liga': ['Antonio Jordano', 378],\n",
      " 'Czech-NBL': ['Jakub Sirina', 509],\n",
      " 'Danish-Basketligaen': ['Patrick Burke', 406],\n",
      " 'Estonian-Latvian-Basketball-League': ['Joonas Jarvelainen', 477],\n",
      " 'Eurocup': ['Errick McCollum', 274],\n",
      " 'Euroleague': ['Mike James', 590],\n",
      " 'FIBA-Europe-Cup': ['Trae Golden', 278],\n",
      " 'Finnish-Korisliiga': ['B.J. Raymond', 726],\n",
      " 'French-Jeep-Elite': ['Ian Miller', 430],\n",
      " 'Georgian-Super-Liga': ['James Milliken', 287],\n",
      " 'German-BBL': ['Marcos Knight', 429],\n",
      " 'Greek-HEBA-A1': ['Conner Frankamp', 397],\n",
      " 'Hungarian-NBIA': ['Andre Jones', 422],\n",
      " 'Israeli-BSL': ['Tomer Ginat', 486],\n",
      " 'Italian-Lega-Basket-Serie-A': ['Adrian Banks', 423],\n",
      " 'Japanese-BLeague': ['Davante Gardner', 936],\n",
      " 'Kosovo-FBK': ['D.J. Hanes', 557],\n",
      " 'Lebanese-Division-A': ['Ahmad Ibrahim', 104],\n",
      " 'Lithuanian-LKL': ['Tomas Dimsa', 339],\n",
      " 'Luxembourg-Total-League': ['Clancy Rugg', 592],\n",
      " 'Macedonian-Superleague': ['Djordje Dzeletovic', 348],\n",
      " 'Mexican-LNBP': ['Donald Sims', 856],\n",
      " 'NBA': ['James Harden', 2335],\n",
      " 'Netherlands-DBL': ['Quentin Snider', 420],\n",
      " 'New-Zealand-NBL': ['Derone Raukawa', 382],\n",
      " 'Norwegian-BLNO': ['Kenny Carpenter', 697],\n",
      " 'Polish-TBL': ['Josh Bostic', 438],\n",
      " 'Romanian-Divizia-A': ['Goran Martinic', 382],\n",
      " 'Serbian-KLS': ['Nikola Simic', 494],\n",
      " 'Slovakian-Extraliga': ['Miles Bowman', 512],\n",
      " 'Slovenian-SKL': ['Dino Muric', 294],\n",
      " 'South-Korean-KBL': ['Nick Minnerath', 901],\n",
      " 'Spanish-ACB': ['Klemen Prepelic', 587],\n",
      " 'Swedish-Basketligan': ['Ty Sabin', 731],\n",
      " 'Swiss-LNA': ['Xavier Ford', 455],\n",
      " 'Turkish-BSL': ['Trae Golden', 505],\n",
      " 'Ukrainian-Superleague': ['Q.J. Peterson', 531]}\n"
     ]
    }
   ],
   "source": [
    "#DF_19_20.groupby('League').get_group('NBA').sort_values('PTS', ascending=False).head(1).Player.max()\n",
    "#DF_19_20.groupby('League').get_group(i).PTS.max()\n",
    "# This Looks really ugly\n",
    "import pprint\n",
    "D = {}\n",
    "DF_19_20.groupby('League').get_group('NBA').PTS.max()\n",
    "for i in DF_19_20.League.unique():\n",
    "    Player = DF_19_20.groupby('League').get_group(i).sort_values('PTS', ascending=False).head(1).Player.max()\n",
    "    points = DF_19_20.groupby('League').get_group(i).PTS.max()\n",
    "    D[i] = [Player,points]\n",
    "pprint.pprint(D)"
   ]
  },
  {
   "cell_type": "markdown",
   "metadata": {},
   "source": [
    "Here is the top scorers in the every Professnoal league. James Harden from the NBA has the most points and that's only because all the other leagues have not play the same amount of games as the NBA."
   ]
  },
  {
   "cell_type": "markdown",
   "metadata": {},
   "source": [
    "# Top Players 3 point Ratio"
   ]
  },
  {
   "cell_type": "markdown",
   "metadata": {},
   "source": [
    "Let's go back to the graph that had the three point ratio."
   ]
  },
  {
   "cell_type": "code",
   "execution_count": 60,
   "metadata": {},
   "outputs": [
    {
     "data": {
      "image/png": "[encoded data removed]",
      "text/plain": [
       "<Figure size 648x360 with 2 Axes>"
      ]
     },
     "metadata": {
      "needs_background": "light"
     },
     "output_type": "display_data"
    }
   ],
   "source": [
    "threePM = NBA_19_20['3PM']\n",
    "threePA = NBA_19_20['3PA']\n",
    "#threePA.head(10).to_frame()\n",
    "\n",
    "plt.scatter(threePA, threePM, c=ratio, edgecolor='black')\n",
    "cbar = plt.colorbar()\n",
    "cbar.set_label('Three Points Made/Attempt Ratio')\n",
    "plt.xlabel('Three Points Attempt')\n",
    "plt.ylabel('Three Points Made')\n",
    "\n",
    "plt.title('Three Points Made/Attempt')\n",
    "plt.show()"
   ]
  },
  {
   "cell_type": "markdown",
   "metadata": {},
   "source": [
    "I want to see the top ten player three point ratio is, but the players had to make over 100 threes. The reason for that is because player who made over less than 100 will probalbly had  taken less three point shots. Therefore they are more likely to have a better ratio."
   ]
  },
  {
   "cell_type": "code",
   "execution_count": 26,
   "metadata": {},
   "outputs": [
    {
     "data": {
      "text/html": [
       "<div>\n",
       "<style scoped>\n",
       "    .dataframe tbody tr th:only-of-type {\n",
       "        vertical-align: middle;\n",
       "    }\n",
       "\n",
       "    .dataframe tbody tr th {\n",
       "        vertical-align: top;\n",
       "    }\n",
       "\n",
       "    .dataframe thead th {\n",
       "        text-align: right;\n",
       "    }\n",
       "</style>\n",
       "<table border=\"1\" class=\"dataframe\">\n",
       "  <thead>\n",
       "    <tr style=\"text-align: right;\">\n",
       "      <th></th>\n",
       "      <th>Player</th>\n",
       "      <th>3PA</th>\n",
       "      <th>3PM</th>\n",
       "      <th>3PR</th>\n",
       "    </tr>\n",
       "  </thead>\n",
       "  <tbody>\n",
       "    <tr>\n",
       "      <th>0</th>\n",
       "      <td>James Harden</td>\n",
       "      <td>843</td>\n",
       "      <td>299</td>\n",
       "      <td>0.354686</td>\n",
       "    </tr>\n",
       "    <tr>\n",
       "      <th>1</th>\n",
       "      <td>Damian Lillard</td>\n",
       "      <td>674</td>\n",
       "      <td>270</td>\n",
       "      <td>0.400593</td>\n",
       "    </tr>\n",
       "    <tr>\n",
       "      <th>2</th>\n",
       "      <td>Devin Booker</td>\n",
       "      <td>398</td>\n",
       "      <td>141</td>\n",
       "      <td>0.354271</td>\n",
       "    </tr>\n",
       "    <tr>\n",
       "      <th>4</th>\n",
       "      <td>Trae Young</td>\n",
       "      <td>568</td>\n",
       "      <td>205</td>\n",
       "      <td>0.360915</td>\n",
       "    </tr>\n",
       "    <tr>\n",
       "      <th>5</th>\n",
       "      <td>Luka Doncic</td>\n",
       "      <td>541</td>\n",
       "      <td>171</td>\n",
       "      <td>0.316081</td>\n",
       "    </tr>\n",
       "    <tr>\n",
       "      <th>6</th>\n",
       "      <td>Bradley Beal</td>\n",
       "      <td>481</td>\n",
       "      <td>170</td>\n",
       "      <td>0.353430</td>\n",
       "    </tr>\n",
       "    <tr>\n",
       "      <th>7</th>\n",
       "      <td>LeBron James</td>\n",
       "      <td>425</td>\n",
       "      <td>148</td>\n",
       "      <td>0.348235</td>\n",
       "    </tr>\n",
       "    <tr>\n",
       "      <th>8</th>\n",
       "      <td>Donovan Mitchell</td>\n",
       "      <td>473</td>\n",
       "      <td>173</td>\n",
       "      <td>0.365751</td>\n",
       "    </tr>\n",
       "    <tr>\n",
       "      <th>10</th>\n",
       "      <td>C.J. McCollum</td>\n",
       "      <td>512</td>\n",
       "      <td>194</td>\n",
       "      <td>0.378906</td>\n",
       "    </tr>\n",
       "    <tr>\n",
       "      <th>12</th>\n",
       "      <td>Jayson Tatum</td>\n",
       "      <td>469</td>\n",
       "      <td>189</td>\n",
       "      <td>0.402985</td>\n",
       "    </tr>\n",
       "  </tbody>\n",
       "</table>\n",
       "</div>"
      ],
      "text/plain": [
       "              Player  3PA  3PM       3PR\n",
       "0       James Harden  843  299  0.354686\n",
       "1     Damian Lillard  674  270  0.400593\n",
       "2       Devin Booker  398  141  0.354271\n",
       "4         Trae Young  568  205  0.360915\n",
       "5        Luka Doncic  541  171  0.316081\n",
       "6       Bradley Beal  481  170  0.353430\n",
       "7       LeBron James  425  148  0.348235\n",
       "8   Donovan Mitchell  473  173  0.365751\n",
       "10     C.J. McCollum  512  194  0.378906\n",
       "12      Jayson Tatum  469  189  0.402985"
      ]
     },
     "execution_count": 26,
     "metadata": {},
     "output_type": "execute_result"
    }
   ],
   "source": [
    "over_100 = NBA_19_20[NBA_19_20['3PM'] >= 100][['Player','3PA','3PM','3PR']]\n",
    "over_100.head(10)"
   ]
  },
  {
   "cell_type": "markdown",
   "metadata": {},
   "source": [
    " In Basketball, have over a 35% 3PA means that the player is a really three point good shooter. So let's take a look at there overall shooting percatntage.\n"
   ]
  },
  {
   "cell_type": "code",
   "execution_count": 27,
   "metadata": {},
   "outputs": [
    {
     "data": {
      "text/html": [
       "<div>\n",
       "<style scoped>\n",
       "    .dataframe tbody tr th:only-of-type {\n",
       "        vertical-align: middle;\n",
       "    }\n",
       "\n",
       "    .dataframe tbody tr th {\n",
       "        vertical-align: top;\n",
       "    }\n",
       "\n",
       "    .dataframe thead th {\n",
       "        text-align: right;\n",
       "    }\n",
       "</style>\n",
       "<table border=\"1\" class=\"dataframe\">\n",
       "  <thead>\n",
       "    <tr style=\"text-align: right;\">\n",
       "      <th></th>\n",
       "      <th>Player</th>\n",
       "      <th>FGM</th>\n",
       "      <th>FGA</th>\n",
       "      <th>OVR</th>\n",
       "    </tr>\n",
       "  </thead>\n",
       "  <tbody>\n",
       "    <tr>\n",
       "      <th>0</th>\n",
       "      <td>James Harden</td>\n",
       "      <td>672</td>\n",
       "      <td>1514</td>\n",
       "      <td>0.443857</td>\n",
       "    </tr>\n",
       "    <tr>\n",
       "      <th>1</th>\n",
       "      <td>Damian Lillard</td>\n",
       "      <td>624</td>\n",
       "      <td>1349</td>\n",
       "      <td>0.462565</td>\n",
       "    </tr>\n",
       "    <tr>\n",
       "      <th>2</th>\n",
       "      <td>Devin Booker</td>\n",
       "      <td>627</td>\n",
       "      <td>1283</td>\n",
       "      <td>0.488698</td>\n",
       "    </tr>\n",
       "    <tr>\n",
       "      <th>4</th>\n",
       "      <td>Trae Young</td>\n",
       "      <td>546</td>\n",
       "      <td>1249</td>\n",
       "      <td>0.437150</td>\n",
       "    </tr>\n",
       "    <tr>\n",
       "      <th>5</th>\n",
       "      <td>Luka Doncic</td>\n",
       "      <td>581</td>\n",
       "      <td>1255</td>\n",
       "      <td>0.462948</td>\n",
       "    </tr>\n",
       "    <tr>\n",
       "      <th>6</th>\n",
       "      <td>Bradley Beal</td>\n",
       "      <td>593</td>\n",
       "      <td>1303</td>\n",
       "      <td>0.455104</td>\n",
       "    </tr>\n",
       "    <tr>\n",
       "      <th>7</th>\n",
       "      <td>LeBron James</td>\n",
       "      <td>643</td>\n",
       "      <td>1303</td>\n",
       "      <td>0.493477</td>\n",
       "    </tr>\n",
       "    <tr>\n",
       "      <th>8</th>\n",
       "      <td>Donovan Mitchell</td>\n",
       "      <td>602</td>\n",
       "      <td>1342</td>\n",
       "      <td>0.448584</td>\n",
       "    </tr>\n",
       "    <tr>\n",
       "      <th>10</th>\n",
       "      <td>C.J. McCollum</td>\n",
       "      <td>611</td>\n",
       "      <td>1356</td>\n",
       "      <td>0.450590</td>\n",
       "    </tr>\n",
       "    <tr>\n",
       "      <th>12</th>\n",
       "      <td>Jayson Tatum</td>\n",
       "      <td>552</td>\n",
       "      <td>1226</td>\n",
       "      <td>0.450245</td>\n",
       "    </tr>\n",
       "  </tbody>\n",
       "</table>\n",
       "</div>"
      ],
      "text/plain": [
       "              Player  FGM   FGA       OVR\n",
       "0       James Harden  672  1514  0.443857\n",
       "1     Damian Lillard  624  1349  0.462565\n",
       "2       Devin Booker  627  1283  0.488698\n",
       "4         Trae Young  546  1249  0.437150\n",
       "5        Luka Doncic  581  1255  0.462948\n",
       "6       Bradley Beal  593  1303  0.455104\n",
       "7       LeBron James  643  1303  0.493477\n",
       "8   Donovan Mitchell  602  1342  0.448584\n",
       "10     C.J. McCollum  611  1356  0.450590\n",
       "12      Jayson Tatum  552  1226  0.450245"
      ]
     },
     "execution_count": 27,
     "metadata": {},
     "output_type": "execute_result"
    }
   ],
   "source": [
    "overall = NBA_19_20[NBA_19_20['3PM'] >= 100][['Player','FGM','FGA','OVR']]\n",
    "overall.head(10)"
   ]
  },
  {
   "cell_type": "markdown",
   "metadata": {},
   "source": [
    "# What team had the best Overall shooting %?"
   ]
  },
  {
   "cell_type": "markdown",
   "metadata": {},
   "source": [
    "Let's find out what team had the best Overall shooting percentage."
   ]
  },
  {
   "cell_type": "code",
   "execution_count": 31,
   "metadata": {},
   "outputs": [
    {
     "data": {
      "text/html": [
       "<div>\n",
       "<style scoped>\n",
       "    .dataframe tbody tr th:only-of-type {\n",
       "        vertical-align: middle;\n",
       "    }\n",
       "\n",
       "    .dataframe tbody tr th {\n",
       "        vertical-align: top;\n",
       "    }\n",
       "\n",
       "    .dataframe thead th {\n",
       "        text-align: right;\n",
       "    }\n",
       "</style>\n",
       "<table border=\"1\" class=\"dataframe\">\n",
       "  <thead>\n",
       "    <tr style=\"text-align: right;\">\n",
       "      <th></th>\n",
       "      <th>0</th>\n",
       "    </tr>\n",
       "    <tr>\n",
       "      <th>Team</th>\n",
       "      <th></th>\n",
       "    </tr>\n",
       "  </thead>\n",
       "  <tbody>\n",
       "    <tr>\n",
       "      <th>LAL</th>\n",
       "      <td>0.483664</td>\n",
       "    </tr>\n",
       "    <tr>\n",
       "      <th>DEN</th>\n",
       "      <td>0.481552</td>\n",
       "    </tr>\n",
       "    <tr>\n",
       "      <th>OKC</th>\n",
       "      <td>0.480979</td>\n",
       "    </tr>\n",
       "    <tr>\n",
       "      <th>UTA</th>\n",
       "      <td>0.480484</td>\n",
       "    </tr>\n",
       "    <tr>\n",
       "      <th>IND</th>\n",
       "      <td>0.480385</td>\n",
       "    </tr>\n",
       "    <tr>\n",
       "      <th>MIL</th>\n",
       "      <td>0.476732</td>\n",
       "    </tr>\n",
       "    <tr>\n",
       "      <th>MEM</th>\n",
       "      <td>0.476685</td>\n",
       "    </tr>\n",
       "    <tr>\n",
       "      <th>SAS</th>\n",
       "      <td>0.469109</td>\n",
       "    </tr>\n",
       "    <tr>\n",
       "      <th>DET</th>\n",
       "      <td>0.467805</td>\n",
       "    </tr>\n",
       "    <tr>\n",
       "      <th>LAC</th>\n",
       "      <td>0.467803</td>\n",
       "    </tr>\n",
       "    <tr>\n",
       "      <th>CLE</th>\n",
       "      <td>0.467601</td>\n",
       "    </tr>\n",
       "    <tr>\n",
       "      <th>POR</th>\n",
       "      <td>0.466818</td>\n",
       "    </tr>\n",
       "    <tr>\n",
       "      <th>DAL</th>\n",
       "      <td>0.465050</td>\n",
       "    </tr>\n",
       "    <tr>\n",
       "      <th>NYK</th>\n",
       "      <td>0.464521</td>\n",
       "    </tr>\n",
       "    <tr>\n",
       "      <th>BRK</th>\n",
       "      <td>0.464087</td>\n",
       "    </tr>\n",
       "    <tr>\n",
       "      <th>PHI</th>\n",
       "      <td>0.463252</td>\n",
       "    </tr>\n",
       "    <tr>\n",
       "      <th>TOR</th>\n",
       "      <td>0.461276</td>\n",
       "    </tr>\n",
       "    <tr>\n",
       "      <th>BOS</th>\n",
       "      <td>0.460941</td>\n",
       "    </tr>\n",
       "    <tr>\n",
       "      <th>MIA</th>\n",
       "      <td>0.459947</td>\n",
       "    </tr>\n",
       "    <tr>\n",
       "      <th>PHX</th>\n",
       "      <td>0.459802</td>\n",
       "    </tr>\n",
       "    <tr>\n",
       "      <th>NOP</th>\n",
       "      <td>0.459412</td>\n",
       "    </tr>\n",
       "    <tr>\n",
       "      <th>HOU</th>\n",
       "      <td>0.453777</td>\n",
       "    </tr>\n",
       "    <tr>\n",
       "      <th>SAC</th>\n",
       "      <td>0.449762</td>\n",
       "    </tr>\n",
       "    <tr>\n",
       "      <th>ORL</th>\n",
       "      <td>0.443520</td>\n",
       "    </tr>\n",
       "    <tr>\n",
       "      <th>MIN</th>\n",
       "      <td>0.440084</td>\n",
       "    </tr>\n",
       "    <tr>\n",
       "      <th>GSW</th>\n",
       "      <td>0.439757</td>\n",
       "    </tr>\n",
       "    <tr>\n",
       "      <th>WAS</th>\n",
       "      <td>0.437419</td>\n",
       "    </tr>\n",
       "    <tr>\n",
       "      <th>CHA</th>\n",
       "      <td>0.433225</td>\n",
       "    </tr>\n",
       "    <tr>\n",
       "      <th>CHI</th>\n",
       "      <td>0.430633</td>\n",
       "    </tr>\n",
       "    <tr>\n",
       "      <th>ATL</th>\n",
       "      <td>0.427787</td>\n",
       "    </tr>\n",
       "  </tbody>\n",
       "</table>\n",
       "</div>"
      ],
      "text/plain": [
       "             0\n",
       "Team          \n",
       "LAL   0.483664\n",
       "DEN   0.481552\n",
       "OKC   0.480979\n",
       "UTA   0.480484\n",
       "IND   0.480385\n",
       "MIL   0.476732\n",
       "MEM   0.476685\n",
       "SAS   0.469109\n",
       "DET   0.467805\n",
       "LAC   0.467803\n",
       "CLE   0.467601\n",
       "POR   0.466818\n",
       "DAL   0.465050\n",
       "NYK   0.464521\n",
       "BRK   0.464087\n",
       "PHI   0.463252\n",
       "TOR   0.461276\n",
       "BOS   0.460941\n",
       "MIA   0.459947\n",
       "PHX   0.459802\n",
       "NOP   0.459412\n",
       "HOU   0.453777\n",
       "SAC   0.449762\n",
       "ORL   0.443520\n",
       "MIN   0.440084\n",
       "GSW   0.439757\n",
       "WAS   0.437419\n",
       "CHA   0.433225\n",
       "CHI   0.430633\n",
       "ATL   0.427787"
      ]
     },
     "execution_count": 31,
     "metadata": {},
     "output_type": "execute_result"
    }
   ],
   "source": [
    "Teams = NBA_19_20.groupby('Team')\n",
    "Teamovr = (Teams['FGM'].sum() / Teams['FGA'].sum()).to_frame()\n",
    "Teamovr.sort_values(0, ascending=False)"
   ]
  },
  {
   "cell_type": "code",
   "execution_count": 39,
   "metadata": {},
   "outputs": [
    {
     "data": {
      "text/plain": [
       "0    48.37\n",
       "Name: LAL, dtype: float64"
      ]
     },
     "execution_count": 39,
     "metadata": {},
     "output_type": "execute_result"
    }
   ],
   "source": [
    "round(Teamovr.loc['LAL'] * 100,2) "
   ]
  },
  {
   "cell_type": "code",
   "execution_count": 46,
   "metadata": {},
   "outputs": [
    {
     "name": "stdout",
     "output_type": "stream",
     "text": [
      "The team with the highest percentage is LA Lakers with a percentage of 48.4%\n"
     ]
    }
   ],
   "source": [
    "print(f'The team with the highest percentage is LA Lakers with a percentage of {round(Teamovr.max().max(),3) * 100}%')"
   ]
  },
  {
   "cell_type": "markdown",
   "metadata": {},
   "source": [
    "# Young Genration"
   ]
  },
  {
   "cell_type": "markdown",
   "metadata": {},
   "source": [
    "We will be looking at the top ten youngest players. We say 23 or less and they had to score more than 1000 points, 200 ast, 200 rebs."
   ]
  },
  {
   "cell_type": "code",
   "execution_count": 104,
   "metadata": {},
   "outputs": [
    {
     "data": {
      "text/html": [
       "<div>\n",
       "<style scoped>\n",
       "    .dataframe tbody tr th:only-of-type {\n",
       "        vertical-align: middle;\n",
       "    }\n",
       "\n",
       "    .dataframe tbody tr th {\n",
       "        vertical-align: top;\n",
       "    }\n",
       "\n",
       "    .dataframe thead th {\n",
       "        text-align: right;\n",
       "    }\n",
       "</style>\n",
       "<table border=\"1\" class=\"dataframe\">\n",
       "  <thead>\n",
       "    <tr style=\"text-align: right;\">\n",
       "      <th></th>\n",
       "      <th>Player</th>\n",
       "      <th>PTS</th>\n",
       "      <th>AST</th>\n",
       "      <th>REB</th>\n",
       "      <th>age</th>\n",
       "    </tr>\n",
       "  </thead>\n",
       "  <tbody>\n",
       "    <tr>\n",
       "      <th>4</th>\n",
       "      <td>Trae Young</td>\n",
       "      <td>1778</td>\n",
       "      <td>560</td>\n",
       "      <td>255</td>\n",
       "      <td>22.0</td>\n",
       "    </tr>\n",
       "    <tr>\n",
       "      <th>5</th>\n",
       "      <td>Luka Doncic</td>\n",
       "      <td>1759</td>\n",
       "      <td>538</td>\n",
       "      <td>573</td>\n",
       "      <td>21.0</td>\n",
       "    </tr>\n",
       "    <tr>\n",
       "      <th>12</th>\n",
       "      <td>Jayson Tatum</td>\n",
       "      <td>1547</td>\n",
       "      <td>200</td>\n",
       "      <td>460</td>\n",
       "      <td>22.0</td>\n",
       "    </tr>\n",
       "    <tr>\n",
       "      <th>16</th>\n",
       "      <td>Brandon Ingram</td>\n",
       "      <td>1477</td>\n",
       "      <td>259</td>\n",
       "      <td>379</td>\n",
       "      <td>23.0</td>\n",
       "    </tr>\n",
       "    <tr>\n",
       "      <th>22</th>\n",
       "      <td>Shai Gilgeous-Alexander</td>\n",
       "      <td>1331</td>\n",
       "      <td>232</td>\n",
       "      <td>412</td>\n",
       "      <td>22.0</td>\n",
       "    </tr>\n",
       "    <tr>\n",
       "      <th>32</th>\n",
       "      <td>Ja Morant</td>\n",
       "      <td>1193</td>\n",
       "      <td>488</td>\n",
       "      <td>258</td>\n",
       "      <td>21.0</td>\n",
       "    </tr>\n",
       "    <tr>\n",
       "      <th>44</th>\n",
       "      <td>Bam Adebayo</td>\n",
       "      <td>1146</td>\n",
       "      <td>368</td>\n",
       "      <td>735</td>\n",
       "      <td>23.0</td>\n",
       "    </tr>\n",
       "    <tr>\n",
       "      <th>50</th>\n",
       "      <td>Jamal Murray</td>\n",
       "      <td>1091</td>\n",
       "      <td>284</td>\n",
       "      <td>236</td>\n",
       "      <td>23.0</td>\n",
       "    </tr>\n",
       "  </tbody>\n",
       "</table>\n",
       "</div>"
      ],
      "text/plain": [
       "                     Player   PTS  AST  REB   age\n",
       "4                Trae Young  1778  560  255  22.0\n",
       "5               Luka Doncic  1759  538  573  21.0\n",
       "12             Jayson Tatum  1547  200  460  22.0\n",
       "16           Brandon Ingram  1477  259  379  23.0\n",
       "22  Shai Gilgeous-Alexander  1331  232  412  22.0\n",
       "32                Ja Morant  1193  488  258  21.0\n",
       "44              Bam Adebayo  1146  368  735  23.0\n",
       "50             Jamal Murray  1091  284  236  23.0"
      ]
     },
     "execution_count": 104,
     "metadata": {},
     "output_type": "execute_result"
    }
   ],
   "source": [
    "NBA_19_20['age'] = 2020 - NBA_19_20['birth_year'] \n",
    "young_ply = NBA_19_20[NBA_19_20['age'] <= 23]\n",
    "stats = young_ply[(young_ply['PTS'] >= 1000) & (young_ply['AST'] >= 200) & (young_ply['REB'] >= 200)]\n",
    "stats[['Player','PTS','AST','REB','age']].head(10)"
   ]
  },
  {
   "cell_type": "code",
   "execution_count": 114,
   "metadata": {},
   "outputs": [],
   "source": [
    "import jovian"
   ]
  },
  {
   "cell_type": "code",
   "execution_count": 105,
   "metadata": {},
   "outputs": [
    {
     "data": {
      "application/javascript": [
       "window.require && require([\"base/js/namespace\"],function(Jupyter){Jupyter.notebook.save_checkpoint()})"
      ],
      "text/plain": [
       "<IPython.core.display.Javascript object>"
      ]
     },
     "metadata": {},
     "output_type": "display_data"
    },
    {
     "name": "stdout",
     "output_type": "stream",
     "text": [
      "[jovian] Attempting to save notebook..\u001b[0m\n",
      "[jovian] Updating notebook \"josh-ramrz/zerotopandas-final-project\" on https://jovian.ml/\u001b[0m\n",
      "[jovian] Uploading notebook..\u001b[0m\n",
      "[jovian] Capturing environment..\u001b[0m\n",
      "[jovian] Committed successfully! https://jovian.ml/josh-ramrz/zerotopandas-final-project\u001b[0m\n"
     ]
    },
    {
     "data": {
      "text/plain": [
       "'https://jovian.ml/josh-ramrz/zerotopandas-final-project'"
      ]
     },
     "execution_count": 105,
     "metadata": {},
     "output_type": "execute_result"
    }
   ],
   "source": [
    "jovian.commit()"
   ]
  },
  {
   "cell_type": "markdown",
   "metadata": {},
   "source": [
    "## Inferences and Conclusion\n",
    "\n"
   ]
  },
  {
   "cell_type": "markdown",
   "metadata": {},
   "source": [
    "Overall, I made graphs on the 3 point ratio and the Overage age in the NBA. The question I ask were all answer but I wish I had the data for the playoffs as well to compare stats from the regular season. I would have to wait on that data since the NBA_19_20 season just ended a couple October 11, 2020. That is usually not when it ends but since the pandemic started the season was suspended. This is all I came up with the information that was given. I had a great time looking over the data. I would like to thank Jovian and freecodecamp for jumpstarting my path to data anaylsis."
   ]
  },
  {
   "cell_type": "code",
   "execution_count": 27,
   "metadata": {},
   "outputs": [],
   "source": [
    "import jovian"
   ]
  },
  {
   "cell_type": "code",
   "execution_count": 106,
   "metadata": {},
   "outputs": [
    {
     "data": {
      "application/javascript": [
       "window.require && require([\"base/js/namespace\"],function(Jupyter){Jupyter.notebook.save_checkpoint()})"
      ],
      "text/plain": [
       "<IPython.core.display.Javascript object>"
      ]
     },
     "metadata": {},
     "output_type": "display_data"
    },
    {
     "name": "stdout",
     "output_type": "stream",
     "text": [
      "[jovian] Attempting to save notebook..\u001b[0m\n",
      "[jovian] Updating notebook \"josh-ramrz/zerotopandas-final-project\" on https://jovian.ml/\u001b[0m\n",
      "[jovian] Uploading notebook..\u001b[0m\n",
      "[jovian] Capturing environment..\u001b[0m\n",
      "[jovian] Committed successfully! https://jovian.ml/josh-ramrz/zerotopandas-final-project\u001b[0m\n"
     ]
    },
    {
     "data": {
      "text/plain": [
       "'https://jovian.ml/josh-ramrz/zerotopandas-final-project'"
      ]
     },
     "execution_count": 106,
     "metadata": {},
     "output_type": "execute_result"
    }
   ],
   "source": [
    "jovian.commit()"
   ]
  },
  {
   "cell_type": "code",
   "execution_count": 29,
   "metadata": {},
   "outputs": [],
   "source": [
    "import jovian"
   ]
  },
  {
   "cell_type": "code",
   "execution_count": null,
   "metadata": {
    "scrolled": true
   },
   "outputs": [
    {
     "data": {
      "application/javascript": [
       "window.require && require([\"base/js/namespace\"],function(Jupyter){Jupyter.notebook.save_checkpoint()})"
      ],
      "text/plain": [
       "<IPython.core.display.Javascript object>"
      ]
     },
     "metadata": {},
     "output_type": "display_data"
    },
    {
     "name": "stdout",
     "output_type": "stream",
     "text": [
      "[jovian] Attempting to save notebook..\u001b[0m\n"
     ]
    }
   ],
   "source": [
    "jovian.commit()"
   ]
  },
  {
   "cell_type": "code",
   "execution_count": null,
   "metadata": {},
   "outputs": [],
   "source": []
  }
 ],
 "metadata": {
  "kernelspec": {
   "display_name": "Python 3",
   "language": "python",
   "name": "python3"
  },
  "language_info": {
   "codemirror_mode": {
    "name": "ipython",
    "version": 3
   },
   "file_extension": ".py",
   "mimetype": "text/x-python",
   "name": "python",
   "nbconvert_exporter": "python",
   "pygments_lexer": "ipython3",
   "version": "3.8.5"
  }
 },
 "nbformat": 4,
 "nbformat_minor": 4
}
